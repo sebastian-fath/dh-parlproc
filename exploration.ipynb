{
 "cells": [
  {
   "cell_type": "markdown",
   "metadata": {},
   "source": [
    "# Data Exploration\n",
    "we can first start by examining our existing data somewhat. For that, we first load our csv file into pandas. We start by installing and loading dependencies"
   ]
  },
  {
   "cell_type": "code",
   "execution_count": 5,
   "metadata": {},
   "outputs": [
    {
     "name": "stdout",
     "output_type": "stream",
     "text": [
      "Requirement already satisfied: tensorflow in /home/sebastianfath/.pyenv/versions/3.12.5/lib/python3.12/site-packages (2.18.0)\n",
      "Requirement already satisfied: absl-py>=1.0.0 in /home/sebastianfath/.pyenv/versions/3.12.5/lib/python3.12/site-packages (from tensorflow) (2.1.0)\n",
      "Requirement already satisfied: astunparse>=1.6.0 in /home/sebastianfath/.pyenv/versions/3.12.5/lib/python3.12/site-packages (from tensorflow) (1.6.3)\n",
      "Requirement already satisfied: flatbuffers>=24.3.25 in /home/sebastianfath/.pyenv/versions/3.12.5/lib/python3.12/site-packages (from tensorflow) (25.1.24)\n",
      "Requirement already satisfied: gast!=0.5.0,!=0.5.1,!=0.5.2,>=0.2.1 in /home/sebastianfath/.pyenv/versions/3.12.5/lib/python3.12/site-packages (from tensorflow) (0.6.0)\n",
      "Requirement already satisfied: google-pasta>=0.1.1 in /home/sebastianfath/.pyenv/versions/3.12.5/lib/python3.12/site-packages (from tensorflow) (0.2.0)\n",
      "Requirement already satisfied: libclang>=13.0.0 in /home/sebastianfath/.pyenv/versions/3.12.5/lib/python3.12/site-packages (from tensorflow) (18.1.1)\n",
      "Requirement already satisfied: opt-einsum>=2.3.2 in /home/sebastianfath/.pyenv/versions/3.12.5/lib/python3.12/site-packages (from tensorflow) (3.4.0)\n",
      "Requirement already satisfied: packaging in /home/sebastianfath/.pyenv/versions/3.12.5/lib/python3.12/site-packages (from tensorflow) (24.2)\n",
      "Requirement already satisfied: protobuf!=4.21.0,!=4.21.1,!=4.21.2,!=4.21.3,!=4.21.4,!=4.21.5,<6.0.0dev,>=3.20.3 in /home/sebastianfath/.pyenv/versions/3.12.5/lib/python3.12/site-packages (from tensorflow) (5.29.3)\n",
      "Requirement already satisfied: requests<3,>=2.21.0 in /home/sebastianfath/.pyenv/versions/3.12.5/lib/python3.12/site-packages (from tensorflow) (2.32.3)\n",
      "Requirement already satisfied: setuptools in /home/sebastianfath/.pyenv/versions/3.12.5/lib/python3.12/site-packages (from tensorflow) (75.8.0)\n",
      "Requirement already satisfied: six>=1.12.0 in /home/sebastianfath/.pyenv/versions/3.12.5/lib/python3.12/site-packages (from tensorflow) (1.17.0)\n",
      "Requirement already satisfied: termcolor>=1.1.0 in /home/sebastianfath/.pyenv/versions/3.12.5/lib/python3.12/site-packages (from tensorflow) (2.5.0)\n",
      "Requirement already satisfied: typing-extensions>=3.6.6 in /home/sebastianfath/.pyenv/versions/3.12.5/lib/python3.12/site-packages (from tensorflow) (4.12.2)\n",
      "Requirement already satisfied: wrapt>=1.11.0 in /home/sebastianfath/.pyenv/versions/3.12.5/lib/python3.12/site-packages (from tensorflow) (1.17.2)\n",
      "Requirement already satisfied: grpcio<2.0,>=1.24.3 in /home/sebastianfath/.pyenv/versions/3.12.5/lib/python3.12/site-packages (from tensorflow) (1.70.0)\n",
      "Requirement already satisfied: tensorboard<2.19,>=2.18 in /home/sebastianfath/.pyenv/versions/3.12.5/lib/python3.12/site-packages (from tensorflow) (2.18.0)\n",
      "Requirement already satisfied: keras>=3.5.0 in /home/sebastianfath/.pyenv/versions/3.12.5/lib/python3.12/site-packages (from tensorflow) (3.8.0)\n",
      "Requirement already satisfied: numpy<2.1.0,>=1.26.0 in /home/sebastianfath/.pyenv/versions/3.12.5/lib/python3.12/site-packages (from tensorflow) (2.0.2)\n",
      "Requirement already satisfied: h5py>=3.11.0 in /home/sebastianfath/.pyenv/versions/3.12.5/lib/python3.12/site-packages (from tensorflow) (3.12.1)\n",
      "Requirement already satisfied: ml-dtypes<0.5.0,>=0.4.0 in /home/sebastianfath/.pyenv/versions/3.12.5/lib/python3.12/site-packages (from tensorflow) (0.4.1)\n",
      "Requirement already satisfied: wheel<1.0,>=0.23.0 in /home/sebastianfath/.pyenv/versions/3.12.5/lib/python3.12/site-packages (from astunparse>=1.6.0->tensorflow) (0.45.1)\n",
      "Requirement already satisfied: rich in /home/sebastianfath/.pyenv/versions/3.12.5/lib/python3.12/site-packages (from keras>=3.5.0->tensorflow) (13.9.4)\n",
      "Requirement already satisfied: namex in /home/sebastianfath/.pyenv/versions/3.12.5/lib/python3.12/site-packages (from keras>=3.5.0->tensorflow) (0.0.8)\n",
      "Requirement already satisfied: optree in /home/sebastianfath/.pyenv/versions/3.12.5/lib/python3.12/site-packages (from keras>=3.5.0->tensorflow) (0.14.0)\n",
      "Requirement already satisfied: charset-normalizer<4,>=2 in /home/sebastianfath/.pyenv/versions/3.12.5/lib/python3.12/site-packages (from requests<3,>=2.21.0->tensorflow) (3.4.1)\n",
      "Requirement already satisfied: idna<4,>=2.5 in /home/sebastianfath/.pyenv/versions/3.12.5/lib/python3.12/site-packages (from requests<3,>=2.21.0->tensorflow) (3.10)\n",
      "Requirement already satisfied: urllib3<3,>=1.21.1 in /home/sebastianfath/.pyenv/versions/3.12.5/lib/python3.12/site-packages (from requests<3,>=2.21.0->tensorflow) (2.3.0)\n",
      "Requirement already satisfied: certifi>=2017.4.17 in /home/sebastianfath/.pyenv/versions/3.12.5/lib/python3.12/site-packages (from requests<3,>=2.21.0->tensorflow) (2024.12.14)\n",
      "Requirement already satisfied: markdown>=2.6.8 in /home/sebastianfath/.pyenv/versions/3.12.5/lib/python3.12/site-packages (from tensorboard<2.19,>=2.18->tensorflow) (3.7)\n",
      "Requirement already satisfied: tensorboard-data-server<0.8.0,>=0.7.0 in /home/sebastianfath/.pyenv/versions/3.12.5/lib/python3.12/site-packages (from tensorboard<2.19,>=2.18->tensorflow) (0.7.2)\n",
      "Requirement already satisfied: werkzeug>=1.0.1 in /home/sebastianfath/.pyenv/versions/3.12.5/lib/python3.12/site-packages (from tensorboard<2.19,>=2.18->tensorflow) (3.1.3)\n",
      "Requirement already satisfied: MarkupSafe>=2.1.1 in /home/sebastianfath/.pyenv/versions/3.12.5/lib/python3.12/site-packages (from werkzeug>=1.0.1->tensorboard<2.19,>=2.18->tensorflow) (3.0.2)\n",
      "Requirement already satisfied: markdown-it-py>=2.2.0 in /home/sebastianfath/.pyenv/versions/3.12.5/lib/python3.12/site-packages (from rich->keras>=3.5.0->tensorflow) (3.0.0)\n",
      "Requirement already satisfied: pygments<3.0.0,>=2.13.0 in /home/sebastianfath/.pyenv/versions/3.12.5/lib/python3.12/site-packages (from rich->keras>=3.5.0->tensorflow) (2.19.1)\n",
      "Requirement already satisfied: mdurl~=0.1 in /home/sebastianfath/.pyenv/versions/3.12.5/lib/python3.12/site-packages (from markdown-it-py>=2.2.0->rich->keras>=3.5.0->tensorflow) (0.1.2)\n",
      "\n",
      "\u001b[1m[\u001b[0m\u001b[34;49mnotice\u001b[0m\u001b[1;39;49m]\u001b[0m\u001b[39;49m A new release of pip is available: \u001b[0m\u001b[31;49m24.2\u001b[0m\u001b[39;49m -> \u001b[0m\u001b[32;49m25.0\u001b[0m\n",
      "\u001b[1m[\u001b[0m\u001b[34;49mnotice\u001b[0m\u001b[1;39;49m]\u001b[0m\u001b[39;49m To update, run: \u001b[0m\u001b[32;49mpip install --upgrade pip\u001b[0m\n",
      "Note: you may need to restart the kernel to use updated packages.\n",
      "\u001b[31mERROR: Could not find a version that satisfies the requirement distutils (from versions: none)\u001b[0m\u001b[31m\n",
      "\u001b[0m\n",
      "\u001b[1m[\u001b[0m\u001b[34;49mnotice\u001b[0m\u001b[1;39;49m]\u001b[0m\u001b[39;49m A new release of pip is available: \u001b[0m\u001b[31;49m24.2\u001b[0m\u001b[39;49m -> \u001b[0m\u001b[32;49m25.0\u001b[0m\n",
      "\u001b[1m[\u001b[0m\u001b[34;49mnotice\u001b[0m\u001b[1;39;49m]\u001b[0m\u001b[39;49m To update, run: \u001b[0m\u001b[32;49mpip install --upgrade pip\u001b[0m\n",
      "\u001b[31mERROR: No matching distribution found for distutils\u001b[0m\u001b[31m\n",
      "\u001b[0mNote: you may need to restart the kernel to use updated packages.\n",
      "Requirement already satisfied: pandas in /home/sebastianfath/.pyenv/versions/3.12.5/lib/python3.12/site-packages (2.2.3)\n",
      "Requirement already satisfied: numpy>=1.26.0 in /home/sebastianfath/.pyenv/versions/3.12.5/lib/python3.12/site-packages (from pandas) (2.0.2)\n",
      "Requirement already satisfied: python-dateutil>=2.8.2 in /home/sebastianfath/.pyenv/versions/3.12.5/lib/python3.12/site-packages (from pandas) (2.9.0.post0)\n",
      "Requirement already satisfied: pytz>=2020.1 in /home/sebastianfath/.pyenv/versions/3.12.5/lib/python3.12/site-packages (from pandas) (2024.2)\n",
      "Requirement already satisfied: tzdata>=2022.7 in /home/sebastianfath/.pyenv/versions/3.12.5/lib/python3.12/site-packages (from pandas) (2025.1)\n",
      "Requirement already satisfied: six>=1.5 in /home/sebastianfath/.pyenv/versions/3.12.5/lib/python3.12/site-packages (from python-dateutil>=2.8.2->pandas) (1.17.0)\n",
      "\n",
      "\u001b[1m[\u001b[0m\u001b[34;49mnotice\u001b[0m\u001b[1;39;49m]\u001b[0m\u001b[39;49m A new release of pip is available: \u001b[0m\u001b[31;49m24.2\u001b[0m\u001b[39;49m -> \u001b[0m\u001b[32;49m25.0\u001b[0m\n",
      "\u001b[1m[\u001b[0m\u001b[34;49mnotice\u001b[0m\u001b[1;39;49m]\u001b[0m\u001b[39;49m To update, run: \u001b[0m\u001b[32;49mpip install --upgrade pip\u001b[0m\n",
      "Note: you may need to restart the kernel to use updated packages.\n",
      "Requirement already satisfied: numpy in /home/sebastianfath/.pyenv/versions/3.12.5/lib/python3.12/site-packages (2.0.2)\n",
      "\n",
      "\u001b[1m[\u001b[0m\u001b[34;49mnotice\u001b[0m\u001b[1;39;49m]\u001b[0m\u001b[39;49m A new release of pip is available: \u001b[0m\u001b[31;49m24.2\u001b[0m\u001b[39;49m -> \u001b[0m\u001b[32;49m25.0\u001b[0m\n",
      "\u001b[1m[\u001b[0m\u001b[34;49mnotice\u001b[0m\u001b[1;39;49m]\u001b[0m\u001b[39;49m To update, run: \u001b[0m\u001b[32;49mpip install --upgrade pip\u001b[0m\n",
      "Note: you may need to restart the kernel to use updated packages.\n",
      "Requirement already satisfied: matplotlib in /home/sebastianfath/.pyenv/versions/3.12.5/lib/python3.12/site-packages (3.10.0)\n",
      "Requirement already satisfied: contourpy>=1.0.1 in /home/sebastianfath/.pyenv/versions/3.12.5/lib/python3.12/site-packages (from matplotlib) (1.3.1)\n",
      "Requirement already satisfied: cycler>=0.10 in /home/sebastianfath/.pyenv/versions/3.12.5/lib/python3.12/site-packages (from matplotlib) (0.12.1)\n",
      "Requirement already satisfied: fonttools>=4.22.0 in /home/sebastianfath/.pyenv/versions/3.12.5/lib/python3.12/site-packages (from matplotlib) (4.55.8)\n",
      "Requirement already satisfied: kiwisolver>=1.3.1 in /home/sebastianfath/.pyenv/versions/3.12.5/lib/python3.12/site-packages (from matplotlib) (1.4.8)\n",
      "Requirement already satisfied: numpy>=1.23 in /home/sebastianfath/.pyenv/versions/3.12.5/lib/python3.12/site-packages (from matplotlib) (2.0.2)\n",
      "Requirement already satisfied: packaging>=20.0 in /home/sebastianfath/.pyenv/versions/3.12.5/lib/python3.12/site-packages (from matplotlib) (24.2)\n",
      "Requirement already satisfied: pillow>=8 in /home/sebastianfath/.pyenv/versions/3.12.5/lib/python3.12/site-packages (from matplotlib) (11.1.0)\n",
      "Requirement already satisfied: pyparsing>=2.3.1 in /home/sebastianfath/.pyenv/versions/3.12.5/lib/python3.12/site-packages (from matplotlib) (3.2.1)\n",
      "Requirement already satisfied: python-dateutil>=2.7 in /home/sebastianfath/.pyenv/versions/3.12.5/lib/python3.12/site-packages (from matplotlib) (2.9.0.post0)\n",
      "Requirement already satisfied: six>=1.5 in /home/sebastianfath/.pyenv/versions/3.12.5/lib/python3.12/site-packages (from python-dateutil>=2.7->matplotlib) (1.17.0)\n",
      "\n",
      "\u001b[1m[\u001b[0m\u001b[34;49mnotice\u001b[0m\u001b[1;39;49m]\u001b[0m\u001b[39;49m A new release of pip is available: \u001b[0m\u001b[31;49m24.2\u001b[0m\u001b[39;49m -> \u001b[0m\u001b[32;49m25.0\u001b[0m\n",
      "\u001b[1m[\u001b[0m\u001b[34;49mnotice\u001b[0m\u001b[1;39;49m]\u001b[0m\u001b[39;49m To update, run: \u001b[0m\u001b[32;49mpip install --upgrade pip\u001b[0m\n",
      "Note: you may need to restart the kernel to use updated packages.\n"
     ]
    }
   ],
   "source": [
    "%pip install tensorflow\n",
    "%pip install distutils\n",
    "%pip install pandas\n",
    "%pip install numpy\n",
    "%pip install matplotlib"
   ]
  },
  {
   "cell_type": "code",
   "execution_count": 6,
   "metadata": {},
   "outputs": [],
   "source": [
    "import pandas as pd\n",
    "from pathlib import Path\n",
    "import matplotlib.pyplot as plt"
   ]
  },
  {
   "cell_type": "code",
   "execution_count": 7,
   "metadata": {},
   "outputs": [
    {
     "name": "stderr",
     "output_type": "stream",
     "text": [
      "2025-01-31 00:58:14.063603: I external/local_xla/xla/tsl/cuda/cudart_stub.cc:32] Could not find cuda drivers on your machine, GPU will not be used.\n",
      "2025-01-31 00:58:14.066663: I external/local_xla/xla/tsl/cuda/cudart_stub.cc:32] Could not find cuda drivers on your machine, GPU will not be used.\n",
      "2025-01-31 00:58:14.075946: E external/local_xla/xla/stream_executor/cuda/cuda_fft.cc:477] Unable to register cuFFT factory: Attempting to register factory for plugin cuFFT when one has already been registered\n",
      "WARNING: All log messages before absl::InitializeLog() is called are written to STDERR\n",
      "E0000 00:00:1738281494.091164  387561 cuda_dnn.cc:8310] Unable to register cuDNN factory: Attempting to register factory for plugin cuDNN when one has already been registered\n",
      "E0000 00:00:1738281494.095810  387561 cuda_blas.cc:1418] Unable to register cuBLAS factory: Attempting to register factory for plugin cuBLAS when one has already been registered\n",
      "2025-01-31 00:58:14.112134: I tensorflow/core/platform/cpu_feature_guard.cc:210] This TensorFlow binary is optimized to use available CPU instructions in performance-critical operations.\n",
      "To enable the following instructions: AVX2 FMA, in other operations, rebuild TensorFlow with the appropriate compiler flags.\n"
     ]
    },
    {
     "name": "stdout",
     "output_type": "stream",
     "text": [
      "2.18.0\n"
     ]
    }
   ],
   "source": [
    "import tensorflow as tf\n",
    "\n",
    "print(tf.__version__)"
   ]
  },
  {
   "cell_type": "code",
   "execution_count": 8,
   "metadata": {},
   "outputs": [],
   "source": [
    "import src.model_training as model_t"
   ]
  },
  {
   "cell_type": "code",
   "execution_count": 9,
   "metadata": {},
   "outputs": [
    {
     "data": {
      "text/html": [
       "<div>\n",
       "<style scoped>\n",
       "    .dataframe tbody tr th:only-of-type {\n",
       "        vertical-align: middle;\n",
       "    }\n",
       "\n",
       "    .dataframe tbody tr th {\n",
       "        vertical-align: top;\n",
       "    }\n",
       "\n",
       "    .dataframe thead th {\n",
       "        text-align: right;\n",
       "    }\n",
       "</style>\n",
       "<table border=\"1\" class=\"dataframe\">\n",
       "  <thead>\n",
       "    <tr style=\"text-align: right;\">\n",
       "      <th></th>\n",
       "      <th>journal_num</th>\n",
       "      <th>text</th>\n",
       "      <th>class</th>\n",
       "    </tr>\n",
       "  </thead>\n",
       "  <tbody>\n",
       "    <tr>\n",
       "      <th>0</th>\n",
       "      <td>92</td>\n",
       "      <td>A Bill for the more effectual preventing Cland...</td>\n",
       "      <td>Reading of a Bill</td>\n",
       "    </tr>\n",
       "    <tr>\n",
       "      <th>1</th>\n",
       "      <td>92</td>\n",
       "      <td>PETITION of several Persons whose names are th...</td>\n",
       "      <td>Petition for leave to bring bill</td>\n",
       "    </tr>\n",
       "    <tr>\n",
       "      <th>2</th>\n",
       "      <td>92</td>\n",
       "      <td>Sir John Beckett presented a Bill for inclosin...</td>\n",
       "      <td>Reading of a Bill</td>\n",
       "    </tr>\n",
       "    <tr>\n",
       "      <th>3</th>\n",
       "      <td>92</td>\n",
       "      <td>Lord Russell presented a Bill for inclosing an...</td>\n",
       "      <td>Reading of a Bill</td>\n",
       "    </tr>\n",
       "    <tr>\n",
       "      <th>4</th>\n",
       "      <td>92</td>\n",
       "      <td>A Petition of Hand-loom Weavers of Longtown, p...</td>\n",
       "      <td>Reading of a Petition</td>\n",
       "    </tr>\n",
       "    <tr>\n",
       "      <th>...</th>\n",
       "      <td>...</td>\n",
       "      <td>...</td>\n",
       "      <td>...</td>\n",
       "    </tr>\n",
       "    <tr>\n",
       "      <th>195</th>\n",
       "      <td>146</td>\n",
       "      <td>Resolved, That if \\n it \\n shall appear that a...</td>\n",
       "      <td>Resolution</td>\n",
       "    </tr>\n",
       "    <tr>\n",
       "      <th>196</th>\n",
       "      <td>146</td>\n",
       "      <td>Resolved, That if it \\n shall appear that any ...</td>\n",
       "      <td>Resolution</td>\n",
       "    </tr>\n",
       "    <tr>\n",
       "      <th>197</th>\n",
       "      <td>146</td>\n",
       "      <td>Resolved, That an humble Address be pre- Qwen'...</td>\n",
       "      <td>Resolution</td>\n",
       "    </tr>\n",
       "    <tr>\n",
       "      <th>198</th>\n",
       "      <td>146</td>\n",
       "      <td>Ordered, That all Members who are returned \\n ...</td>\n",
       "      <td>Order</td>\n",
       "    </tr>\n",
       "    <tr>\n",
       "      <th>199</th>\n",
       "      <td>146</td>\n",
       "      <td>Ordered, That the Commissioners of the Police ...</td>\n",
       "      <td>Order</td>\n",
       "    </tr>\n",
       "  </tbody>\n",
       "</table>\n",
       "<p>200 rows × 3 columns</p>\n",
       "</div>"
      ],
      "text/plain": [
       "     journal_num                                               text  \\\n",
       "0             92  A Bill for the more effectual preventing Cland...   \n",
       "1             92  PETITION of several Persons whose names are th...   \n",
       "2             92  Sir John Beckett presented a Bill for inclosin...   \n",
       "3             92  Lord Russell presented a Bill for inclosing an...   \n",
       "4             92  A Petition of Hand-loom Weavers of Longtown, p...   \n",
       "..           ...                                                ...   \n",
       "195          146  Resolved, That if \\n it \\n shall appear that a...   \n",
       "196          146  Resolved, That if it \\n shall appear that any ...   \n",
       "197          146  Resolved, That an humble Address be pre- Qwen'...   \n",
       "198          146  Ordered, That all Members who are returned \\n ...   \n",
       "199          146  Ordered, That the Commissioners of the Police ...   \n",
       "\n",
       "                                class  \n",
       "0                   Reading of a Bill  \n",
       "1    Petition for leave to bring bill  \n",
       "2                   Reading of a Bill  \n",
       "3                   Reading of a Bill  \n",
       "4               Reading of a Petition  \n",
       "..                                ...  \n",
       "195                        Resolution  \n",
       "196                        Resolution  \n",
       "197                        Resolution  \n",
       "198                             Order  \n",
       "199                             Order  \n",
       "\n",
       "[200 rows x 3 columns]"
      ]
     },
     "execution_count": 9,
     "metadata": {},
     "output_type": "execute_result"
    }
   ],
   "source": [
    "data = pd.read_csv(\"data/data_impure.csv\", delimiter=\"|\")\n",
    "data"
   ]
  },
  {
   "cell_type": "markdown",
   "metadata": {},
   "source": [
    "As you can see, we have 200 columns of data, consisting mostly of a \"text\" field and a \"class\". Lets take a closer look at class."
   ]
  },
  {
   "cell_type": "code",
   "execution_count": 10,
   "metadata": {},
   "outputs": [
    {
     "name": "stdout",
     "output_type": "stream",
     "text": [
      "['Reading of a Bill' 'Petition for leave to bring bill'\n",
      " 'Reading of a Petition' 'Reading of a Report'\n",
      " 'Motion for leave to bring Bill' 'Order' 'Motion withdrawn'\n",
      " 'Adjournment of Debate' 'Appointment of Committees' 'Resolution'\n",
      " 'Petition' 'Division of the House' 'Message from Royalty or Lords'] 13\n"
     ]
    }
   ],
   "source": [
    "class_names = data[\"class\"].unique()\n",
    "print(\n",
    "    class_names, \n",
    "    len(class_names)\n",
    "    )"
   ]
  },
  {
   "cell_type": "markdown",
   "metadata": {},
   "source": [
    "As you can see, our current \"class\" field contains 13 different class names. We saved their names into the Array `class_names`.\n",
    "\n",
    "# Model creation\n",
    "\n",
    "accordingly, we can start building our Neural Net Model. If you paid attention earelier, we loaded a helper library."
   ]
  },
  {
   "cell_type": "markdown",
   "metadata": {},
   "source": [
    "First, we need to prepare our data for training the Neural Net. For that, we split our data into a validation and training data set. To facilitate this, tensorflow recommends implementing your data in a folder structure like:\n",
    "```\n",
    "- data/\n",
    "|- class1/\n",
    " |- text.txt\n",
    "|- class2/\n",
    "...\n",
    "```"
   ]
  },
  {
   "cell_type": "code",
   "execution_count": 11,
   "metadata": {},
   "outputs": [
    {
     "name": "stdout",
     "output_type": "stream",
     "text": [
      "0 journal_num                                                   92\n",
      "text           A Bill for the more effectual preventing Cland...\n",
      "class                                          Reading of a Bill\n",
      "Name: 0, dtype: object\n",
      "1 journal_num                                                   92\n",
      "text           PETITION of several Persons whose names are th...\n",
      "class                           Petition for leave to bring bill\n",
      "Name: 1, dtype: object\n",
      "2 journal_num                                                   92\n",
      "text           Sir John Beckett presented a Bill for inclosin...\n",
      "class                                          Reading of a Bill\n",
      "Name: 2, dtype: object\n",
      "3 journal_num                                                   92\n",
      "text           Lord Russell presented a Bill for inclosing an...\n",
      "class                                          Reading of a Bill\n",
      "Name: 3, dtype: object\n",
      "4 journal_num                                                   92\n",
      "text           A Petition of Hand-loom Weavers of Longtown, p...\n",
      "class                                      Reading of a Petition\n",
      "Name: 4, dtype: object\n",
      "5 journal_num                                                   92\n",
      "text           A Petition of Freedmen of Godmanchester, prayi...\n",
      "class                                      Reading of a Petition\n",
      "Name: 5, dtype: object\n",
      "6 journal_num                                                   92\n",
      "text           Lord John Russell presented, by His Majesty's ...\n",
      "class                                        Reading of a Report\n",
      "Name: 6, dtype: object\n",
      "7 journal_num                                                   92\n",
      "text           The House was moved, That the Act 6 and 7 Will...\n",
      "class                             Motion for leave to bring Bill\n",
      "Name: 7, dtype: object\n",
      "8 journal_num                                                   92\n",
      "text           Ordered, That leave be given to bring in a Bil...\n",
      "class                             Motion for leave to bring Bill\n",
      "Name: 8, dtype: object\n",
      "9 journal_num                                                   92\n",
      "text           The House was moved, That the Act 5 and 6 Will...\n",
      "class                             Motion for leave to bring Bill\n",
      "Name: 9, dtype: object\n",
      "10 journal_num                                                   92\n",
      "text           Ordered, That a Standing Committee of Sixteen ...\n",
      "class                                                      Order\n",
      "Name: 10, dtype: object\n",
      "11 journal_num                                                  107\n",
      "text           Ordered, That leave be given to bring in a Bil...\n",
      "class                             Motion for leave to bring Bill\n",
      "Name: 11, dtype: object\n",
      "12 journal_num                                                  107\n",
      "text           Ordered, That leave be given to bring in a Bil...\n",
      "class                             Motion for leave to bring Bill\n",
      "Name: 12, dtype: object\n",
      "13 journal_num                                                  107\n",
      "text           A Motion was made, and the Question was propos...\n",
      "class                                           Motion withdrawn\n",
      "Name: 13, dtype: object\n",
      "14 journal_num                                                  107\n",
      "text           A Motion was made, and the Question was propos...\n",
      "class                                           Motion withdrawn\n",
      "Name: 14, dtype: object\n",
      "15 journal_num                                                  107\n",
      "text           The House was moved, That the Act 6 and 7 Will...\n",
      "class                                          Reading of a Bill\n",
      "Name: 15, dtype: object\n",
      "16 journal_num                                                  107\n",
      "text           The Order of the day being read, for the third...\n",
      "class                                          Reading of a Bill\n",
      "Name: 16, dtype: object\n",
      "17 journal_num                                                  107\n",
      "text           A Motion was made, and the Question was propos...\n",
      "class                                      Adjournment of Debate\n",
      "Name: 17, dtype: object\n",
      "18 journal_num                                                  107\n",
      "text           Ordered, That the Debate be adjourned till thi...\n",
      "class                                      Adjournment of Debate\n",
      "Name: 18, dtype: object\n",
      "19 journal_num                                                  107\n",
      "text           A Motion was made, and the Question was propos...\n",
      "class                                  Appointment of Committees\n",
      "Name: 19, dtype: object\n",
      "20 journal_num                                                  107\n",
      "text           Ordered, That Mr. Stephenson, Mr. Locke and Mr...\n",
      "class                                  Appointment of Committees\n",
      "Name: 20, dtype: object\n",
      "21 journal_num                                                  107\n",
      "text           Resolved, That no Peer of the Realm, except su...\n",
      "class                                                 Resolution\n",
      "Name: 21, dtype: object\n",
      "22 journal_num                                                  107\n",
      "text           Resolved, That it is a high infringement of th...\n",
      "class                                                 Resolution\n",
      "Name: 22, dtype: object\n",
      "23 journal_num                                                  107\n",
      "text           Resolved, That if it shall appear that any per...\n",
      "class                                                 Resolution\n",
      "Name: 23, dtype: object\n",
      "24 journal_num                                                  107\n",
      "text           Resolved, That if it shall appear that any per...\n",
      "class                                                 Resolution\n",
      "Name: 24, dtype: object\n",
      "25 journal_num                                                  107\n",
      "text           Resolved, That if it shall appear that any per...\n",
      "class                                                 Resolution\n",
      "Name: 25, dtype: object\n",
      "26 journal_num                                                  107\n",
      "text           Ordered, That the Commissioners of the Police ...\n",
      "class                                                      Order\n",
      "Name: 26, dtype: object\n",
      "27 journal_num                                                  107\n",
      "text           Ordered, That the Serjeant-at-Arms attending t...\n",
      "class                                                      Order\n",
      "Name: 27, dtype: object\n",
      "28 journal_num                                                  107\n",
      "text           Ordered, That all Persons who will question an...\n",
      "class                                                      Order\n",
      "Name: 28, dtype: object\n",
      "29 journal_num                                                  107\n",
      "text           Ordered, That all Members who are returned for...\n",
      "class                                                      Order\n",
      "Name: 29, dtype: object\n",
      "30 journal_num                                                   92\n",
      "text           Bill to alter and amend the \\n several Acts en...\n",
      "class                             Motion for leave to bring Bill\n",
      "Name: 30, dtype: object\n",
      "31 journal_num                                                   92\n",
      "text           Bill to alter \\n and amend the several Acts fo...\n",
      "class                             Motion for leave to bring Bill\n",
      "Name: 31, dtype: object\n",
      "32 journal_num                                                   92\n",
      "text           A Petition of Land-owners in the counties of S...\n",
      "class                                                   Petition\n",
      "Name: 32, dtype: object\n",
      "33 journal_num                                                   92\n",
      "text           A Petition of the Company of Proprietors of th...\n",
      "class                                                   Petition\n",
      "Name: 33, dtype: object\n",
      "34 journal_num                                                   92\n",
      "text           a Petition of Charles Fox, Esq.; from Ireland....\n",
      "class                                                   Petition\n",
      "Name: 34, dtype: object\n",
      "35 journal_num                                                   92\n",
      "text           Resolved, That an humble Address be presented ...\n",
      "class                                                 Resolution\n",
      "Name: 35, dtype: object\n",
      "36 journal_num                                                   92\n",
      "text           Resolved, That if it shall appear \\n that any ...\n",
      "class                                                 Resolution\n",
      "Name: 36, dtype: object\n",
      "37 journal_num                                                   92\n",
      "text           Resolved, That this House will not receive any...\n",
      "class                                                 Resolution\n",
      "Name: 37, dtype: object\n",
      "38 journal_num                                                   92\n",
      "text           Ordered, That Mr. Speaker do issue his Warrant...\n",
      "class                                                      Order\n",
      "Name: 38, dtype: object\n",
      "39 journal_num                                                   92\n",
      "text           Ordered, That the said Letters be printed \\n ;...\n",
      "class                                                      Order\n",
      "Name: 39, dtype: object\n",
      "40 journal_num                                                   92\n",
      "text           Ordered, That a Committee be appointed to draw...\n",
      "class                                                      Order\n",
      "Name: 40, dtype: object\n",
      "41 journal_num                                                   92\n",
      "text           Ordered, That a Select Committee be appointed,...\n",
      "class                                                      Order\n",
      "Name: 41, dtype: object\n",
      "42 journal_num                                                   92\n",
      "text           Ordered, That the Serjeant-at-Arms \\n attendin...\n",
      "class                                                      Order\n",
      "Name: 42, dtype: object\n",
      "43 journal_num                                                   92\n",
      "text           Ordered, That the said officer do, upon his go...\n",
      "class                                                      Order\n",
      "Name: 43, dtype: object\n",
      "44 journal_num                                                   92\n",
      "text           The House divided : \\n The Yeas to the old Lob...\n",
      "class                                      Division of the House\n",
      "Name: 44, dtype: object\n",
      "45 journal_num                                                  194\n",
      "text           Resolved, That no Peer of the Realm, except \\n...\n",
      "class                                                 Resolution\n",
      "Name: 45, dtype: object\n",
      "46 journal_num                                                  194\n",
      "text           Ordered, That all Members who are returned \\n ...\n",
      "class                                                      Order\n",
      "Name: 46, dtype: object\n",
      "47 journal_num                                                  194\n",
      "text           Ordered, That the Votes and Proceedings of \\n ...\n",
      "class                                                      Order\n",
      "Name: 47, dtype: object\n",
      "48 journal_num                                                  194\n",
      "text           Ordered, That the said Papers do lie upon \\n t...\n",
      "class                                                      Order\n",
      "Name: 48, dtype: object\n",
      "49 journal_num                                                  194\n",
      "text           Ordered, That the said Papers do lie upon \\n t...\n",
      "class                                                      Order\n",
      "Name: 49, dtype: object\n",
      "50 journal_num                                                  194\n",
      "text           Ordered, That the said Papers do lie \\n upon I...\n",
      "class                                                      Order\n",
      "Name: 50, dtype: object\n",
      "51 journal_num                                                  146\n",
      "text           Resolved, That no Peer of the Realm, except \\n...\n",
      "class                                                 Resolution\n",
      "Name: 51, dtype: object\n",
      "52 journal_num                                                  146\n",
      "text           Resolved, That an humble Address be pre- Qwen'...\n",
      "class                                                 Resolution\n",
      "Name: 52, dtype: object\n",
      "53 journal_num                                                  146\n",
      "text           Ordered, That all Members who are returned \\n ...\n",
      "class                                                      Order\n",
      "Name: 53, dtype: object\n",
      "54 journal_num                                                  146\n",
      "text           Ordered, That the said Papers do lie upon \\n t...\n",
      "class                                                      Order\n",
      "Name: 54, dtype: object\n",
      "55 journal_num                                                  146\n",
      "text           Ordered, That the said Papers do lie upon the ...\n",
      "class                                                      Order\n",
      "Name: 55, dtype: object\n",
      "56 journal_num                                                  146\n",
      "text           Ordered, That the said Address be presented \\n...\n",
      "class                                                      Order\n",
      "Name: 56, dtype: object\n",
      "57 journal_num                                                  146\n",
      "text           Ordered, That leave be given to bring in a Bil...\n",
      "class                                                      Order\n",
      "Name: 57, dtype: object\n",
      "58 journal_num                                                  146\n",
      "text           A Message was delivered by Sir James Drum- \\n ...\n",
      "class                              Message from Royalty or Lords\n",
      "Name: 58, dtype: object\n",
      "59 journal_num                                                  166\n",
      "text           Resolved, That this House do now adjourn Adjou...\n",
      "class                                                 Resolution\n",
      "Name: 59, dtype: object\n",
      "60 journal_num                                                  166\n",
      "text           Resolved, That no Peer of the Realm, except \\n...\n",
      "class                                                 Resolution\n",
      "Name: 60, dtype: object\n",
      "61 journal_num                                                  166\n",
      "text           Resolved, That if \\n it \\n shall appear that a...\n",
      "class                                                 Resolution\n",
      "Name: 61, dtype: object\n",
      "62 journal_num                                                  166\n",
      "text           Ordered, That the Clerk of the Crown do \\n att...\n",
      "class                                                      Order\n",
      "Name: 62, dtype: object\n",
      "63 journal_num                                                  166\n",
      "text           Ordered, That the Votes and Proceedings of Vot...\n",
      "class                                                      Order\n",
      "Name: 63, dtype: object\n",
      "64 journal_num                                                  166\n",
      "text           Ordered, That the said Papers do lie upon the ...\n",
      "class                                                      Order\n",
      "Name: 64, dtype: object\n",
      "65 journal_num                                                  166\n",
      "text           A Message was delivered by Admiral Sir \\n Henr...\n",
      "class                              Message from Royalty or Lords\n",
      "Name: 65, dtype: object\n",
      "66 journal_num                                                  166\n",
      "text           A Message was delivered by Admiral Sir \\n by \\...\n",
      "class                              Message from Royalty or Lords\n",
      "Name: 66, dtype: object\n",
      "67 journal_num                                                   92\n",
      "text           Bill to alter and amend the \\n several Acts en...\n",
      "class                             Motion for leave to bring Bill\n",
      "Name: 67, dtype: object\n",
      "68 journal_num                                                   92\n",
      "text           Bill to alter \\n and amend the several Acts fo...\n",
      "class                             Motion for leave to bring Bill\n",
      "Name: 68, dtype: object\n",
      "69 journal_num                                                   92\n",
      "text           A Petition of Land-owners in the counties of S...\n",
      "class                                                   Petition\n",
      "Name: 69, dtype: object\n",
      "70 journal_num                                                   92\n",
      "text           A Petition of the Company of Proprietors of th...\n",
      "class                                                   Petition\n",
      "Name: 70, dtype: object\n",
      "71 journal_num                                                   92\n",
      "text           a Petition of Charles Fox, Esq.; from Ireland....\n",
      "class                                                   Petition\n",
      "Name: 71, dtype: object\n",
      "72 journal_num                                                   92\n",
      "text           Resolved, That an humble Address be presented ...\n",
      "class                                                 Resolution\n",
      "Name: 72, dtype: object\n",
      "73 journal_num                                                   92\n",
      "text           Resolved, That if it shall appear \\n that any ...\n",
      "class                                                 Resolution\n",
      "Name: 73, dtype: object\n",
      "74 journal_num                                                   92\n",
      "text           Resolved, That this House will not receive any...\n",
      "class                                                 Resolution\n",
      "Name: 74, dtype: object\n",
      "75 journal_num                                                   92\n",
      "text           Ordered, That Mr. Speaker do issue his Warrant...\n",
      "class                                                      Order\n",
      "Name: 75, dtype: object\n",
      "76 journal_num                                                   92\n",
      "text           Ordered, That the said Letters be printed \\n ;...\n",
      "class                                                      Order\n",
      "Name: 76, dtype: object\n",
      "77 journal_num                                                   92\n",
      "text           Ordered, That a Committee be appointed to draw...\n",
      "class                                                      Order\n",
      "Name: 77, dtype: object\n",
      "78 journal_num                                                   92\n",
      "text           Ordered, That a Select Committee be appointed,...\n",
      "class                                                      Order\n",
      "Name: 78, dtype: object\n",
      "79 journal_num                                                   92\n",
      "text           Ordered, That the Serjeant-at-Arms \\n attendin...\n",
      "class                                                      Order\n",
      "Name: 79, dtype: object\n",
      "80 journal_num                                                   92\n",
      "text           Ordered, That the said officer do, upon his go...\n",
      "class                                                      Order\n",
      "Name: 80, dtype: object\n",
      "81 journal_num                                                   92\n",
      "text           The House divided : \\n The Yeas to the old Lob...\n",
      "class                                      Division of the House\n",
      "Name: 81, dtype: object\n",
      "82 journal_num                                                  194\n",
      "text           Resolved, That no Peer of the Realm, except \\n...\n",
      "class                                                 Resolution\n",
      "Name: 82, dtype: object\n",
      "83 journal_num                                                  194\n",
      "text           Ordered, That all Members who are returned \\n ...\n",
      "class                                                      Order\n",
      "Name: 83, dtype: object\n",
      "84 journal_num                                                  194\n",
      "text           Ordered, That the Votes and Proceedings of \\n ...\n",
      "class                                                      Order\n",
      "Name: 84, dtype: object\n",
      "85 journal_num                                                  194\n",
      "text           Ordered, That the said Papers do lie upon \\n t...\n",
      "class                                                      Order\n",
      "Name: 85, dtype: object\n",
      "86 journal_num                                                  194\n",
      "text           Ordered, That the said Papers do lie upon \\n t...\n",
      "class                                                      Order\n",
      "Name: 86, dtype: object\n",
      "87 journal_num                                                  194\n",
      "text           Ordered, That the said Papers do lie \\n upon I...\n",
      "class                                                      Order\n",
      "Name: 87, dtype: object\n",
      "88 journal_num                                                  146\n",
      "text           Resolved, That no Peer of the Realm, except \\n...\n",
      "class                                                 Resolution\n",
      "Name: 88, dtype: object\n",
      "89 journal_num                                                  146\n",
      "text           Resolved, That an humble Address be pre- Qwen'...\n",
      "class                                                 Resolution\n",
      "Name: 89, dtype: object\n",
      "90 journal_num                                                  146\n",
      "text           Ordered, That all Members who are returned \\n ...\n",
      "class                                                      Order\n",
      "Name: 90, dtype: object\n",
      "91 journal_num                                                  146\n",
      "text           Ordered, That the said Papers do lie upon \\n t...\n",
      "class                                                      Order\n",
      "Name: 91, dtype: object\n",
      "92 journal_num                                                  146\n",
      "text           Ordered, That the said Papers do lie upon the ...\n",
      "class                                                      Order\n",
      "Name: 92, dtype: object\n",
      "93 journal_num                                                  146\n",
      "text           Ordered, That the said Address be presented \\n...\n",
      "class                                                      Order\n",
      "Name: 93, dtype: object\n",
      "94 journal_num                                                  146\n",
      "text           Ordered, That leave be given to bring in a Bil...\n",
      "class                                                      Order\n",
      "Name: 94, dtype: object\n",
      "95 journal_num                                                  146\n",
      "text           A Message was delivered by Sir James Drum- \\n ...\n",
      "class                              Message from Royalty or Lords\n",
      "Name: 95, dtype: object\n",
      "96 journal_num                                                  166\n",
      "text           Resolved, That this House do now adjourn Adjou...\n",
      "class                                                 Resolution\n",
      "Name: 96, dtype: object\n",
      "97 journal_num                                                  166\n",
      "text           Resolved, That no Peer of the Realm, except \\n...\n",
      "class                                                 Resolution\n",
      "Name: 97, dtype: object\n",
      "98 journal_num                                                  166\n",
      "text           Resolved, That if \\n it \\n shall appear that a...\n",
      "class                                                 Resolution\n",
      "Name: 98, dtype: object\n",
      "99 journal_num                                                  166\n",
      "text           Ordered, That the Clerk of the Crown do \\n att...\n",
      "class                                                      Order\n",
      "Name: 99, dtype: object\n",
      "100 journal_num                                                  166\n",
      "text           Ordered, That the Votes and Proceedings of Vot...\n",
      "class                                                      Order\n",
      "Name: 100, dtype: object\n",
      "101 journal_num                                                  166\n",
      "text           Ordered, That the said Papers do lie upon the ...\n",
      "class                                                      Order\n",
      "Name: 101, dtype: object\n",
      "102 journal_num                                                  166\n",
      "text           A Message was delivered by Admiral Sir \\n Henr...\n",
      "class                              Message from Royalty or Lords\n",
      "Name: 102, dtype: object\n",
      "103 journal_num                                                  166\n",
      "text           A Message was delivered by Admiral Sir \\n by \\...\n",
      "class                              Message from Royalty or Lords\n",
      "Name: 103, dtype: object\n",
      "104 journal_num                                                  146\n",
      "text           Resolved, That no Peer of the Realm, except \\n...\n",
      "class                                                 Resolution\n",
      "Name: 104, dtype: object\n",
      "105 journal_num                                                  146\n",
      "text           Resolved, That an humble Address be pre- Qwen'...\n",
      "class                                                 Resolution\n",
      "Name: 105, dtype: object\n",
      "106 journal_num                                                  146\n",
      "text           Ordered, That all Members who are returned \\n ...\n",
      "class                                                      Order\n",
      "Name: 106, dtype: object\n",
      "107 journal_num                                                  146\n",
      "text           Ordered, That the said Papers do lie upon \\n t...\n",
      "class                                                      Order\n",
      "Name: 107, dtype: object\n",
      "108 journal_num                                                  146\n",
      "text           Ordered, That the said Papers do lie upon the ...\n",
      "class                                                      Order\n",
      "Name: 108, dtype: object\n",
      "109 journal_num                                                  146\n",
      "text           Ordered, That the said Address be presented \\n...\n",
      "class                                                      Order\n",
      "Name: 109, dtype: object\n",
      "110 journal_num                                                  146\n",
      "text           Ordered, That leave be given to bring in a Bil...\n",
      "class                                                      Order\n",
      "Name: 110, dtype: object\n",
      "111 journal_num                                                  146\n",
      "text           A Message was delivered by Sir James Drum- \\n ...\n",
      "class                              Message from Royalty or Lords\n",
      "Name: 111, dtype: object\n",
      "112 journal_num                                                  166\n",
      "text           Resolved, That this House do now adjourn Adjou...\n",
      "class                                                 Resolution\n",
      "Name: 112, dtype: object\n",
      "113 journal_num                                                  166\n",
      "text           Resolved, That no Peer of the Realm, except \\n...\n",
      "class                                                 Resolution\n",
      "Name: 113, dtype: object\n",
      "114 journal_num                                                  166\n",
      "text           Resolved, That if \\n it \\n shall appear that a...\n",
      "class                                                 Resolution\n",
      "Name: 114, dtype: object\n",
      "115 journal_num                                                  166\n",
      "text           Ordered, That the Clerk of the Crown do \\n att...\n",
      "class                                                      Order\n",
      "Name: 115, dtype: object\n",
      "116 journal_num                                                  166\n",
      "text           Ordered, That the Votes and Proceedings of Vot...\n",
      "class                                                      Order\n",
      "Name: 116, dtype: object\n",
      "117 journal_num                                                  166\n",
      "text           Ordered, That the said Papers do lie upon the ...\n",
      "class                                                      Order\n",
      "Name: 117, dtype: object\n",
      "118 journal_num                                                  166\n",
      "text           A Message was delivered by Admiral Sir \\n Henr...\n",
      "class                              Message from Royalty or Lords\n",
      "Name: 118, dtype: object\n",
      "119 journal_num                                                  166\n",
      "text           A Message was delivered by Admiral Sir \\n by \\...\n",
      "class                              Message from Royalty or Lords\n",
      "Name: 119, dtype: object\n",
      "120 journal_num                                                   92\n",
      "text           Bill to alter and amend the \\n several Acts en...\n",
      "class                             Motion for leave to bring Bill\n",
      "Name: 120, dtype: object\n",
      "121 journal_num                                                   92\n",
      "text           Bill to alter \\n and amend the several Acts fo...\n",
      "class                             Motion for leave to bring Bill\n",
      "Name: 121, dtype: object\n",
      "122 journal_num                                                   92\n",
      "text           Bill to empower \\n them to sell and dispose of...\n",
      "class                             Motion for leave to bring Bill\n",
      "Name: 122, dtype: object\n",
      "123 journal_num                                                   92\n",
      "text           Bill to continue, alter, enlarge, \\n explain a...\n",
      "class                             Motion for leave to bring Bill\n",
      "Name: 123, dtype: object\n",
      "124 journal_num                                                   92\n",
      "text           Bill to alter and amend \\n an \\n Act passed in...\n",
      "class                             Motion for leave to bring Bill\n",
      "Name: 124, dtype: object\n",
      "125 journal_num                                                   92\n",
      "text           A Petition of Land-owners in the counties of S...\n",
      "class                                                   Petition\n",
      "Name: 125, dtype: object\n",
      "126 journal_num                                                   92\n",
      "text           A Petition of Trustees for executing the Act f...\n",
      "class                                                   Petition\n",
      "Name: 126, dtype: object\n",
      "127 journal_num                                                   92\n",
      "text           A Petition of Justices of the Peace of the cou...\n",
      "class                                                   Petition\n",
      "Name: 127, dtype: object\n",
      "128 journal_num                                                   92\n",
      "text           A Petition of the Company of Proprietors of th...\n",
      "class                                                   Petition\n",
      "Name: 128, dtype: object\n",
      "129 journal_num                                                   92\n",
      "text           A Petition of Owners or Proprietors of land in...\n",
      "class                                                   Petition\n",
      "Name: 129, dtype: object\n",
      "130 journal_num                                                   92\n",
      "text           A Petition of the Mayor, Aldermen and Burgesse...\n",
      "class                                                   Petition\n",
      "Name: 130, dtype: object\n",
      "131 journal_num                                                   92\n",
      "text           A Petition of Owners, Proprietors or Occupiers...\n",
      "class                                                   Petition\n",
      "Name: 131, dtype: object\n",
      "132 journal_num                                                   92\n",
      "text           A Petition of Proprietors of estates, and othe...\n",
      "class                                                   Petition\n",
      "Name: 132, dtype: object\n",
      "133 journal_num                                                   92\n",
      "text           A Petition of Bankers, Merchants, Traders and ...\n",
      "class                                                   Petition\n",
      "Name: 133, dtype: object\n",
      "134 journal_num                                                   92\n",
      "text           A Petition of Traders and Inhabitants of the \\...\n",
      "class                                                   Petition\n",
      "Name: 134, dtype: object\n",
      "135 journal_num                                                   92\n",
      "text           A Petition of Owners and Occupiers of houses, ...\n",
      "class                                                   Petition\n",
      "Name: 135, dtype: object\n",
      "136 journal_num                                                   92\n",
      "text           A Petition of Merchants, Traders, and others o...\n",
      "class                                                   Petition\n",
      "Name: 136, dtype: object\n",
      "137 journal_num                                                   92\n",
      "text           A Petition of Procurators before the Sheriff C...\n",
      "class                                                   Petition\n",
      "Name: 137, dtype: object\n",
      "138 journal_num                                                   92\n",
      "text           a Petition of Charles Fox, Esq.; from Ireland....\n",
      "class                                                   Petition\n",
      "Name: 138, dtype: object\n",
      "139 journal_num                                                   92\n",
      "text           Resolved, That an humble Address be presented ...\n",
      "class                                                 Resolution\n",
      "Name: 139, dtype: object\n",
      "140 journal_num                                                   92\n",
      "text           Resolved, That if it shall appear \\n that any ...\n",
      "class                                                 Resolution\n",
      "Name: 140, dtype: object\n",
      "141 journal_num                                                   92\n",
      "text           Resolved, That no Peer of this Realm, except \\...\n",
      "class                                                 Resolution\n",
      "Name: 141, dtype: object\n",
      "142 journal_num                                                   92\n",
      "text           Resolved, That it is a high infringement \\n of...\n",
      "class                                                 Resolution\n",
      "Name: 142, dtype: object\n",
      "143 journal_num                                                   92\n",
      "text           Resolved, That if it shall appear that any per...\n",
      "class                                                 Resolution\n",
      "Name: 143, dtype: object\n",
      "144 journal_num                                                   92\n",
      "text           Resolved, That if it shall appear that any per...\n",
      "class                                                 Resolution\n",
      "Name: 144, dtype: object\n",
      "145 journal_num                                                   92\n",
      "text           Resolved, That this House will not receive any...\n",
      "class                                                 Resolution\n",
      "Name: 145, dtype: object\n",
      "146 journal_num                                                   92\n",
      "text           Resolved, That no Select Committee shall, with...\n",
      "class                                                 Resolution\n",
      "Name: 146, dtype: object\n",
      "147 journal_num                                                   92\n",
      "text           Resolved, That it be recommended to every \\n M...\n",
      "class                                                 Resolution\n",
      "Name: 147, dtype: object\n",
      "148 journal_num                                                   92\n",
      "text           Resolved, That Four Tellers and Four Clerks \\n...\n",
      "class                                                 Resolution\n",
      "Name: 148, dtype: object\n",
      "149 journal_num                                                   92\n",
      "text           Resolved, That the Lists of the Division be th...\n",
      "class                                                 Resolution\n",
      "Name: 149, dtype: object\n",
      "150 journal_num                                                   92\n",
      "text           Ordered, That Mr. Speaker do issue his Warrant...\n",
      "class                                                      Order\n",
      "Name: 150, dtype: object\n",
      "151 journal_num                                                   92\n",
      "text           Ordered, That Mr. Speaker do issue his Warrant...\n",
      "class                                                      Order\n",
      "Name: 151, dtype: object\n",
      "152 journal_num                                                   92\n",
      "text           Ordered, That Mr. Speaker do issue his Warrant...\n",
      "class                                                      Order\n",
      "Name: 152, dtype: object\n",
      "153 journal_num                                                   92\n",
      "text           Ordered, That the said Letters be printed \\n ;...\n",
      "class                                                      Order\n",
      "Name: 153, dtype: object\n",
      "154 journal_num                                                   92\n",
      "text           Ordered, That a Committee be appointed to draw...\n",
      "class                                                      Order\n",
      "Name: 154, dtype: object\n",
      "155 journal_num                                                   92\n",
      "text           Ordered, That the Speech of the Lords Commis- ...\n",
      "class                                                      Order\n",
      "Name: 155, dtype: object\n",
      "156 journal_num                                                   92\n",
      "text           Ordered, That a Select Committee be appointed,...\n",
      "class                                                      Order\n",
      "Name: 156, dtype: object\n",
      "157 journal_num                                                   92\n",
      "text           Ordered, That Five be the Quorum. \\n A Petitio...\n",
      "class                                                      Order\n",
      "Name: 157, dtype: object\n",
      "158 journal_num                                                   92\n",
      "text           Ordered, That the Serjeant-at-Arms \\n attendin...\n",
      "class                                                      Order\n",
      "Name: 158, dtype: object\n",
      "159 journal_num                                                   92\n",
      "text           Ordered, That no Member of \\n this House do pr...\n",
      "class                                                      Order\n",
      "Name: 159, dtype: object\n",
      "160 journal_num                                                   92\n",
      "text           Ordered, That all persons who \\n will question...\n",
      "class                                                      Order\n",
      "Name: 160, dtype: object\n",
      "161 journal_num                                                   92\n",
      "text           Ordered, That all persons who \\n will question...\n",
      "class                                                      Order\n",
      "Name: 161, dtype: object\n",
      "162 journal_num                                                   92\n",
      "text           Ordered, That when any such Petition \\n shall ...\n",
      "class                                                      Order\n",
      "Name: 162, dtype: object\n",
      "163 journal_num                                                   92\n",
      "text           Ordered, That all persons who shall \\n questio...\n",
      "class                                                      Order\n",
      "Name: 163, dtype: object\n",
      "164 journal_num                                                   92\n",
      "text           Ordered, That the Constables in \\n waiting do ...\n",
      "class                                                      Order\n",
      "Name: 164, dtype: object\n",
      "165 journal_num                                                   92\n",
      "text           Ordered, That the said Orders be sent to \\n th...\n",
      "class                                                      Order\n",
      "Name: 165, dtype: object\n",
      "166 journal_num                                                   92\n",
      "text           Ordered, That no Footman be \\n permitted to be...\n",
      "class                                                      Order\n",
      "Name: 166, dtype: object\n",
      "167 journal_num                                                   92\n",
      "text           Ordered, That the Serjeant- at-Arms \\n attendi...\n",
      "class                                                      Order\n",
      "Name: 167, dtype: object\n",
      "168 journal_num                                                   92\n",
      "text           Ordered, That the said officer do, upon his go...\n",
      "class                                                      Order\n",
      "Name: 168, dtype: object\n",
      "169 journal_num                                                   92\n",
      "text           Ordered, That the Votes and Proceedings of thi...\n",
      "class                                                      Order\n",
      "Name: 169, dtype: object\n",
      "170 journal_num                                                   92\n",
      "text           Ordered, That the said Resolutions be printed....\n",
      "class                                                      Order\n",
      "Name: 170, dtype: object\n",
      "171 journal_num                                                   92\n",
      "text           Ordered, That a Select Committee be appointed,...\n",
      "class                                                      Order\n",
      "Name: 171, dtype: object\n",
      "172 journal_num                                                   92\n",
      "text           The House divided : \\n The Yeas to the old Lob...\n",
      "class                                      Division of the House\n",
      "Name: 172, dtype: object\n",
      "173 journal_num                                                  194\n",
      "text           Resolved, That no Peer of the Realm, except \\n...\n",
      "class                                                 Resolution\n",
      "Name: 173, dtype: object\n",
      "174 journal_num                                                  194\n",
      "text           Resolved, That if it shall appear that any Wit...\n",
      "class                                                 Resolution\n",
      "Name: 174, dtype: object\n",
      "175 journal_num                                                  194\n",
      "text           Resolved, That if it shall appear that any \\n ...\n",
      "class                                                 Resolution\n",
      "Name: 175, dtype: object\n",
      "176 journal_num                                                  194\n",
      "text           Ordered, That all Members who are returned \\n ...\n",
      "class                                                      Order\n",
      "Name: 176, dtype: object\n",
      "177 journal_num                                                  194\n",
      "text           Ordered, That the Commissioner of the Police M...\n",
      "class                                                      Order\n",
      "Name: 177, dtype: object\n",
      "178 journal_num                                                  194\n",
      "text           Ordered, That the Votes and Proceedings of \\n ...\n",
      "class                                                      Order\n",
      "Name: 178, dtype: object\n",
      "179 journal_num                                                  194\n",
      "text           Ordered, That the Journal of this House, \\n fr...\n",
      "class                                                      Order\n",
      "Name: 179, dtype: object\n",
      "180 journal_num                                                  194\n",
      "text           Ordered, That the said Journal and Index \\n be...\n",
      "class                                                      Order\n",
      "Name: 180, dtype: object\n",
      "181 journal_num                                                  194\n",
      "text           Ordered, That the said Papers do lie upon \\n t...\n",
      "class                                                      Order\n",
      "Name: 181, dtype: object\n",
      "182 journal_num                                                  194\n",
      "text           Ordered, That the said Papers do lie upon \\n t...\n",
      "class                                                      Order\n",
      "Name: 182, dtype: object\n",
      "183 journal_num                                                  194\n",
      "text           Ordered, That the said Papers do lie upon \\n t...\n",
      "class                                                      Order\n",
      "Name: 183, dtype: object\n",
      "184 journal_num                                                  194\n",
      "text           Ordered, That the said Papers do lie upon \\n t...\n",
      "class                                                      Order\n",
      "Name: 184, dtype: object\n",
      "185 journal_num                                                  194\n",
      "text           Ordered, That the said Papers do lie upon \\n t...\n",
      "class                                                      Order\n",
      "Name: 185, dtype: object\n",
      "186 journal_num                                                  194\n",
      "text           Ordered, That the said Papers do lie \\n upon I...\n",
      "class                                                      Order\n",
      "Name: 186, dtype: object\n",
      "187 journal_num                                                  194\n",
      "text           Ordered, That the said Papers do lie \\n upon \\...\n",
      "class                                                      Order\n",
      "Name: 187, dtype: object\n",
      "188 journal_num                                                  194\n",
      "text           Ordered, That the said Paper do lie \\n upon \\n...\n",
      "class                                                      Order\n",
      "Name: 188, dtype: object\n",
      "189 journal_num                                                  194\n",
      "text           Ordered, That the said Paper do lie \\n upon \\n...\n",
      "class                                                      Order\n",
      "Name: 189, dtype: object\n",
      "190 journal_num                                                  194\n",
      "text           Ordered, That the said Paper do lie \\n upon \\n...\n",
      "class                                                      Order\n",
      "Name: 190, dtype: object\n",
      "191 journal_num                                                  194\n",
      "text           Ordered, That the said Papers do lie upon \\n t...\n",
      "class                                                      Order\n",
      "Name: 191, dtype: object\n",
      "192 journal_num                                                  194\n",
      "text           Ordered, That the said Papers do lie \\n upon \\...\n",
      "class                                                      Order\n",
      "Name: 192, dtype: object\n",
      "193 journal_num                                                  146\n",
      "text           Resolved, That no Peer of the Realm, except \\n...\n",
      "class                                                 Resolution\n",
      "Name: 193, dtype: object\n",
      "194 journal_num                                                  146\n",
      "text           Resolved, That if \\n it \\n shall appear that a...\n",
      "class                                                 Resolution\n",
      "Name: 194, dtype: object\n",
      "195 journal_num                                                  146\n",
      "text           Resolved, That if \\n it \\n shall appear that a...\n",
      "class                                                 Resolution\n",
      "Name: 195, dtype: object\n",
      "196 journal_num                                                  146\n",
      "text           Resolved, That if it \\n shall appear that any ...\n",
      "class                                                 Resolution\n",
      "Name: 196, dtype: object\n",
      "197 journal_num                                                  146\n",
      "text           Resolved, That an humble Address be pre- Qwen'...\n",
      "class                                                 Resolution\n",
      "Name: 197, dtype: object\n",
      "198 journal_num                                                  146\n",
      "text           Ordered, That all Members who are returned \\n ...\n",
      "class                                                      Order\n",
      "Name: 198, dtype: object\n",
      "199 journal_num                                                  146\n",
      "text           Ordered, That the Commissioners of the Police ...\n",
      "class                                                      Order\n",
      "Name: 199, dtype: object\n"
     ]
    },
    {
     "name": "stderr",
     "output_type": "stream",
     "text": [
      "/tmp/ipykernel_387561/1668619078.py:10: FutureWarning: Series.__getitem__ treating keys as positions is deprecated. In a future version, integer keys will always be treated as labels (consistent with DataFrame behavior). To access a value by position, use `ser.iloc[pos]`\n",
      "  f.write(row[1])\n"
     ]
    }
   ],
   "source": [
    "# create folderstructure\n",
    "for class_name in class_names:\n",
    "    class_dir = Path(f\"data/dataset/{class_name}\")\n",
    "    class_dir.mkdir(parents=True, exist_ok=True)\n",
    "\n",
    "# create data\n",
    "for index, row in data.iterrows():\n",
    "    print(index, row)\n",
    "    with open(f\"data/dataset/{row[\"class\"]}/{index}.txt\", \"w\") as f:\n",
    "        f.write(row[1])\n",
    "\n",
    "    "
   ]
  },
  {
   "cell_type": "markdown",
   "metadata": {},
   "source": [
    "next, we load this data into a usable dataset by using `tf.keras.utils.text_dataset_from_directory`"
   ]
  },
  {
   "cell_type": "code",
   "execution_count": 12,
   "metadata": {},
   "outputs": [
    {
     "name": "stdout",
     "output_type": "stream",
     "text": [
      "Found 200 files belonging to 13 classes.\n",
      "Using 160 files for training.\n",
      "Found 200 files belonging to 13 classes.\n",
      "Using 40 files for validation.\n"
     ]
    },
    {
     "name": "stderr",
     "output_type": "stream",
     "text": [
      "2025-01-31 00:58:15.606986: E external/local_xla/xla/stream_executor/cuda/cuda_driver.cc:152] failed call to cuInit: INTERNAL: CUDA error: Failed call to cuInit: CUDA_ERROR_COMPAT_NOT_SUPPORTED_ON_DEVICE: forward compatibility was attempted on non supported HW\n",
      "2025-01-31 00:58:15.607007: I external/local_xla/xla/stream_executor/cuda/cuda_diagnostics.cc:137] retrieving CUDA diagnostic information for host: desktop\n",
      "2025-01-31 00:58:15.607013: I external/local_xla/xla/stream_executor/cuda/cuda_diagnostics.cc:144] hostname: desktop\n",
      "2025-01-31 00:58:15.607069: I external/local_xla/xla/stream_executor/cuda/cuda_diagnostics.cc:168] libcuda reported version is: 570.86.16\n",
      "2025-01-31 00:58:15.607086: I external/local_xla/xla/stream_executor/cuda/cuda_diagnostics.cc:172] kernel reported version is: 565.77.0\n",
      "2025-01-31 00:58:15.607091: E external/local_xla/xla/stream_executor/cuda/cuda_diagnostics.cc:262] kernel version 565.77.0 does not match DSO version 570.86.16 -- cannot find working devices in this configuration\n"
     ]
    }
   ],
   "source": [
    "seed = 101\n",
    "tf_train_data = tf.keras.utils.text_dataset_from_directory(\"data/dataset\", batch_size=32, validation_split=0.2, subset='training', seed=seed)\n",
    "tf_val_data = tf.keras.utils.text_dataset_from_directory(\"data/dataset\", batch_size=32, validation_split=0.2, subset='validation', seed=seed)"
   ]
  },
  {
   "cell_type": "markdown",
   "metadata": {},
   "source": [
    "Now, we can take a look at our generated data"
   ]
  },
  {
   "cell_type": "code",
   "execution_count": 13,
   "metadata": {},
   "outputs": [
    {
     "name": "stdout",
     "output_type": "stream",
     "text": [
      "Text:  b'The House was moved, That the Act 5 and 6 Will. 4, c.76, to provide for the Regulation of Municipal Corporations in England and Wales, might be read; and the same being read; Ordered, That leave be given to bring in a Bill to amend the said Act: And that Mr. Attorney General and Mr. Solicitor General do prepare, and bring it in.'\n",
      "Label: 4\n",
      "Text:  b'Resolved, That no Peer of the Realm, except \\\\n such Peers of Ireland as shall, for the time being, \\\\n be actually elected, and shall not have declined \\\\n to serve, for any county, city, or borough of \\\\n Great Britain, hath any right to give his vote \\\\n in the Election of any Member to serve in \\\\n Parliament. \\\\n Complaint made by Mr. MacVeagh, Member Privilege \\\\n for the South Down Division of County Down, (Voting of a \\\\n that the Earl of Roden, a Peer of the Realm, Parliamentary \\\\n at \\\\n had voted in the Election of a Member to the Election.) \\\\n House of Commons to serve for the South Down \\\\n Division of County Down. \\\\n Resolved, That, it having been represented to \\\\n this House that the Earl of Roden did infringe \\\\n the Liberties and Privileges of this House by \\\\n voting in the Election of a Member to represent \\\\n the South Down Division of County Down in'\n",
      "Label: 12\n",
      "Text:  b'Resolved, That this House will not receive any \\\\n Petition for Private Bills after Friday, the 17th day \\\\n of this instant February. \\\\n Resolved, That no Private Bill be read the \\\\n first time after Monday, the 20th day of March \\\\n next. \\\\n Resolved, That this House will not receive any \\\\n Report of such Private Bill after Monday, the 5th \\\\n day of June next. \\\\n Ordered, That the said Resolutions be printed. \\\\n Ordered, That the Serjeant -at-Arms attending \\\\n this House do from time to time, when the House \\\\n is going to Prayers, give notice thereof to all Com- \\\\n mittees ; and that all proceedings of Committees \\\\n after \\\\n such notice \\\\n be \\\\n declared to be \\\\n null and \\\\n void. \\\\n \" Resolved, That no Select Committee shall, with- \\\\n out previous leave obtained of the House, consist \\\\n of more than fifteen Members ; that such leave shall \\\\n not be moved for without notice ; and that, in the \\\\n case of Members proposed to be added or substituted, \\\\n after the first appointment of the Committee, the \\\\n notice shall include the names of the Members \\\\n pro- \\\\n posed to be added or substituted. \\\\n \" Resolved, That Lists be affixed in some con- \\\\n spicuous place in the Committee Clerks\\' Office, and \\\\n in the Lobby of the House, of all Members serving \\\\n on each Select Committee. \\\\n \" 3. Resolved, That it be recommended to every \\\\n Member moving for the appointment of a Select \\\\n Committee, to ascertain previously whether each \\\\n Member proposed to be named by him on such \\\\n Committee will give his attendance thereupon. \\\\n \" Resolved, That to every question asked of a \\\\n witness under examination in the proceedings of \\\\n any \\\\n Select Committee, there be prefixed in the Minutes \\\\n of the Evidence, the name of the Member asking \\\\n such question. \\\\n \" Resolved. That the names of the Members pre- \\\\n sent each day, on the sitting of any Select Committee, \\\\n be entered on the Minutes of Evidence, \\\\n or on the \\\\n Minutes of the proceedings of the Committee (as \\\\n the case may be), and reported to the House \\\\n on the \\\\n Report of such Committee. \\\\n \" Resolved, That, in the event of any division \\\\n taking place in any Select Committee, the Question \\\\n proposed, the name of the Proposer, and the \\\\n respec- \\\\n tive votes thereupon of each Member present, be \\\\n entered on the Minutes of Evidence, or on the \\\\n Minutes cf the Proceedings of the Committee (as \\\\n the case may be), and reported to the House \\\\n on the \\\\n Report of such Committee. \\\\n The House was moved, That the Standing Order \\\\n Petitions for \\\\n of the House of the 19th day of August, in the last Private Bills. \\\\n Session of Parliament, relative to the appointment \\\\n of a Select Committee on Petitions for Private Bills, \\\\n might be read ; and the same being read \\\\n ; \\\\n Ordered, That a Select Committee be appointed, \\\\n to whom all Petitions for Private Bills are to be \\\\n re- \\\\n ferred, except those for making any Turnpike Road, \\\\n or to continue or amend any Act for making, main- \\\\n taining, keeping in repair, or improving any Turnpike \\\\n Road :And a Committee was appointed of Mr. \\\\n Shaw Lefevre, Mr. Evelyn Denison, Mr. Robert \\\\n Palmer, Mr. Charles Barclay, The 0\\' Conor Don, \\\\n Mr. Wrightson, Mr. Pease, Mr. Hawes, Mr. Henry \\\\n Handley, Mr, Greene, Sir Harry Verney, Mr. Craw- \\\\n ford, Mr. Ayshford Sanford, Mr. Compton, Mr. \\\\n Divett, Lord Worsley, Mr. Plumptre, Mr. Aglionby, \\\\n Mr. Bowes, Mr. Bingham Baring, Mr. George \\\\n Philips, Mr. Robert Clive, Mr. William Gordon, \\\\n Mr. Strutt, Sir John Yarde Buller, Mr. Chalmers, \\\\n Mr. Fergus, Mr. Hope Johnstone, Mr. Horsman, Mr. \\\\n Poulter, Mr. Villiers Stuart, Mr. Morgan John \\\\n O\\'Connell, Mr. Vesey, Mr. Bramston, Mr. Halford, \\\\n Mr. Hale, Lord Viscount Eastnor, Mr. Tatton Eger- \\\\n ton, Mr. Bell, Mr. Henry Maxwell, Mr. Woodhouse, \\\\n and Mr. Hope. \\\\n The House was moved, That the Resolutions of Divisions of the- \\\\n the House of the 18th day of February, in the last House. \\\\n Session of Parliament, relative to Divisions of the \\\\n House, might be read ; and the same were read, \\\\n as \\\\n follow : \\\\n \" Resolved, That, upon every Division, the House \\\\n be entirely cleared ; the Yeas and the Noes being \\\\n sent forth into two separate Lobbies. \\\\n \" Resolved, That Four Tellers and Four Clerks \\\\n be appointed, two of each to be stationed at the \\\\n entrance of the respective Lobbies. \\\\n \" Resolved, That the doors being simultaneously \\\\n opened by the Speaker\\'s order, the Names of the \\\\n Members be taken down by the Clerks \\\\n on ruled \\\\n paper, with numbered lines (or marked off upon a \\\\n printed List), as they re-enter the House by the \\\\n opposite Door, the Tellers counting, and announcing \\\\n the result at the Table, as at present. \\\\n \" Resolved, That the Lists of the Division be then \\\\n brought up to the Table by the Tellers, and depo- \\\\n sited there, for insertion, in alphabetical order, in \\\\n the Votes.\" \\\\n Resolved, That the present mode of publishing \\\\n Division Lists be extended to Divisions when the \\\\n House is in Committee, in all cases where five Mem- \\\\n bers shall require it. \\\\n Mr. Speaker acquainted the House, that he had \\\\n Election Pee. \\\\n received from the Deputy Clerk of the Crown and tions received \\\\n Hanaper in Ireland, a Petition of Charles Fox, Esq.; from Ireland. \\\\n and also, a Petition of Lovell Edgeworth, Esq. and \\\\n others, Freeholders, complaining of an undue Elec- \\\\n tion and Return for the county of Longford \\\\n : And \\\\n the said Petitions were laid upon the Table. \\\\n A Petition of Charles Fox, of Rutland-square, in Longford \\\\n the city of Dublin, Esquire, was read ; setting forth, County \\\\n That the Petitioner was a Candidate at the last Ep leetci af \\\\n Election for a Member to serve in this Parliament \\\\n charies Fox, \\\\n for the County of Longford ; \\\\n that at the said Esq. \\\\n election'\n",
      "Label: 12\n",
      "Text:  b'Ordered, That the said Orders be sent to \\\\n the High \\\\n from his commission, to influence the election \\\\n of any \\\\n Member to serve for the Commons in Parliament. \\\\n Resolved, That if it shall appear that any person \\\\n bath been elected or returned a Member \\\\n of this \\\\n House, or endeavoured so to be, by Bribery, or any \\\\n other corrupt practices, this House will \\\\n proceed with'\n",
      "Label: 6\n",
      "Text:  b\"Ordered, That Mr. Speaker do issue his Warrant \\\\n to the Clerk of the Crown, to make out a new Writ \\\\n for the electing of a Knight of the Shire to serve in \\\\n this present Parliament for the County of Bucking- \\\\n ham, in the room of James Backwell Praed, Esquire, \\\\n deceased. \\\\n Ordered, That Mr. Speaker do issue his Warrant \\\\n to the Clerk of the Crown, to make out a new Writ \\\\n for the electing of a Burgess to serve in this present \\\\n VOL. 92. \\\\n Parliament for the Borough of Morpeth, in the room \\\\n of the Honourable Edward George Granville How- \\\\n ard, who, since his election for the said Borough, \\\\n hath accepted the office of Steward of His Majesty's \\\\n Manor of East Hendred, in the county of Berks. \\\\n Ordered, That Mr. Speaker do issue his Warrant Carlow County \\\\n to the Clerk of the Crown in Ireland, to make out a Writ' \\\\n new Writ for the electing of a Knight of the Shire to \\\\n serve in this present Parliament for the County of \\\\n Carlow, in the room of Thomas Kavanagh, Esquire, \\\\n deceased. \\\\n Ordered, That Mr. Speaker do issue his Warrant Dungarcau \\\\n to the Clerk of the Crown in Ireland, to make out nut \\\\n a new Writ for the electing of a Burgess to serve in \\\\n this present Parliament for the Borough of Dun- \\\\n garvan, in the room of Michael 0' Loghlen, Esquire, \\\\n who, since his election for the said Borough, hath \\\\n accepted the office of one of the Barons of His \\\\n Majesty's Court of Exchequer in Ireland. \\\\n Ordered, That Mr. Speaker do issue his Warrant Cashci Writ. \\\\n to the Clerk of the Crown in Ireland, to make out a \\\\n new Writ for the electing of a Citizen to serve in \\\\n this present Parliament for the City of Cashel, in the \\\\n room of Stephen Woulfe, Esquire, who, since his \\\\n election for the said City, hath accepted the office of \\\\n His Majesty's Solicitor General in Ireland. \\\\n Ordered, That Mr. Speaker do issue his Warrant Attglesea \\\\n Writ. \\\\n to the Clerk of the Crown, to make out a new Writ \\\\n for the electing of a Knight of the Shire to serve in \\\\n this present Parliament for the County of Anglesect, \\\\n in the room of Sir Richard Bulkeley Williams \\\\n Bulkeley, Baronet, who, since his election for the \\\\n said County, bath accepted the office of Steward or \\\\n Bailiff of His Majesty's three Chiltern Hundreds of. \\\\n Stoke, Desborough and Bonenham, in the county of \\\\n Buckingham. \\\\n Mr. Speaker acquainted the House, that he had Breach of \\\\n received a Letter from the Lord High Chancellor, and Privilege' \\\\n also a Letter from Edmund Lechmere Charlton, Es- \\\\n quire, a Member of this House, which Letters Mr. \\\\n Speaker read to the House, as follow : \\\\n Mr. Speaker, \\\\n 31st Jan. 1837. \\\\n I have the honour of making known to you, \\\\n for the information of the House of Commons, that \\\\n B 2 \\\\n I issued\"\n",
      "Label: 6\n",
      "Text:  b'Ordered, That the said Paper do lie \\\\n upon \\\\n the Table. \\\\n VoL. 194. \\\\n Earl Winterton presented, pursuant to the Air \\\\n Navigation \\\\n directions of several Acts of Parliament, \\\\n Copies of .Orders in Council, dated 28th July \\\\n Acts. \\\\n 1938, entitled \\\\n (1) the Air Navigation (Aden) Order, 1938 ;'\n",
      "Label: 6\n",
      "Text:  b'Ordered, That the said Papers do lie upon \\\\n the Table. \\\\n Mr. Jackson presented, by Her Majesty\\'s Meteorology. \\\\n Command,Copy of Report of the Meteoro- \\\\n logical Council to the Royal Society for the year \\\\n ending 31st March 1890. \\\\n -Mr. Jackson also presented, pursuant to the \\\\n Superannua- \\\\n directions of several Acts of Parliament,Copy =1 \\'1874: 1\"9 \\\\n of Treasury Minute, dated 3rd September 1890, \\\\n declaring Macao to be an unhealthy place for the \\\\n purposes of the \\'uperannuation Acts, 1859 and \\\\n 1876. \\\\n Copies of Treasury Minutes under time Super- Superannua- \\\\n annuation Act, 18,:4, declaring that the following non \\\\n Act, 188,L \\\\n persons in the under-mentioned departments were \\\\n appointed to the Offices set against their names \\\\n without the grant of a Civil Service Certificate, \\\\n throuult inadvertence on the part of the Heads of \\\\n their Departments, viz.: \\\\n Timothy Dilmot, Postman, Margate, dated \\\\n 23rd September 1890; \\\\n Mary McGee, Postmistress, Antrim, dated. \\\\n 29th September 1890 ; \\\\n Arthur Hopkinson, Postman, Swinton, Man- \\\\n chester, dated 30th September 1890; \\\\n Harry Walter Marshall, Civilian Clerk, Pay \\\\n Office, \\\\n . \\\\n \\\\\\'etley Hospital, dated 1st October \\\\n 1890. \\\\n Ordered, That the sail Papers do lie upon the \\\\n Table. \\\\n Baron /Jewry de Worms presented, by Her \\\\n Majesty\\'s Command,Copies of Reports on the \\\\n Blue Books, &c. for 1889, Nos. 112 (Jamaica), \\\\n 113 (Falkland Islands), 114 ( 130.500/and), 115 \\\\n (Sierra Leone), 116 (Fiji), 117 (Hong Kong). \\\\n Copy of a Convention between Iler Majesty \\\\n and the South African Republic for the Settle- \\\\n ment of the Affairs of ,S\\'waziland, with Corres- \\\\n pondence relating thereto (in continuation of [C. \\\\n 6200], August 1890). \\\\n Copy of Papers relating to the \\\\n Protected \\\\n Malay States (in \\\\n continuation of [C. 5884], \\\\n August 1889). \\\\n Copy of Papers relative to the Ambulance \\\\n Transport of Civilian Sick and Wounded in the \\\\n Colonies. \\\\n Copy of Return showing for each of the Aus- \\\\n tralasian Colonies, - \\\\n 1. The Expenditure incurred by assisting \\\\n Immigration ; \\\\n 2. The Revenue of the Colony raised by \\\\n Taxation; \\\\n 3. The Area of Land alienated from the \\\\n Crown ; and \\\\n 4. The area of Land remaining during the \\\\n last 10 years. \\\\n Ordered, That the said Papers do lie upon the \\\\n Table. \\\\n Sir William Hart Dyke presented, by Her Education \\\\n Majesty\\'s Command,Copy of Calendar of the (Science and \\\\n Science and Art Department for the year 1891. \\\\n mreto t)part- \\\\n Sir William Hart Dyke also presented, pur- Copyright \\\\n suant to the directions of several Acts of Parlia- (Colonies.) \\\\n ment,Copy of Order in Council, dated 15th \\\\n August 1890, suspending the operation of the \\\\n B 3 \\\\n Imperial \\\\n Colonial \\\\n Possessions \\\\n (Jamaica, &c.) \\\\n South Africa \\\\n (Swaziland.) \\\\n Straits Settle- \\\\n ments \\\\n (Protected \\\\n Malay States.) \\\\n Colonies \\\\n (General.) \\\\n Australasian \\\\n Colonies.'\n",
      "Label: 6\n",
      "Text:  b\"Ordered, That a Committee be appointed to draw committee \\\\n up an Address to be presented to \\\\n His Majesty upon to draw up \\\\n the said Resolution \\\\n a Committee was ap- \\\\n Address. \\\\n pointed of Mr. Ayshford Sanford, Mr. Villiers \\\\n Stuart, Lord John Russell, Mr. Chancellor of the \\\\n Exchequer, Lord Viscount Palmerston, Lord Vis- \\\\n count Howick, Mr. Poulett Thomson, Sir John Hob- \\\\n house, Lord Viscount Morpeth, Mr. Attorney General, \\\\n Mr. Solicitor General, Mr. Bernal, Mr. Baring, \\\\n Mr. Edward John Stanley, Mr. Charles' Wood, Mr. \\\\n Robert Steuart, and the Lord Advocate, or any Five \\\\n of them :And they are to withdraw immediately. \\\\n Ordered, That the Speech of the Lords Commis- \\\\n sioners to both Houses of Parliament be referred \\\\n to the Committee. \\\\n And then the House adjourned till To-morrow. \\\\n Speech referred. \\\\n Illercurii, 1\\xc2\\xb0 die Februarii ; \\\\n Anno \\\\n Willielmi IVti Regis, 18 3 7. \\\\n PRAYERS. \\\\n AP ET IT I 0 N of several Persons whose names London and \\\\n are thereunto subscribed, for leave to \\\\n bring in Brighton \\\\n a Bill for making a Railway from London to \\\\n Brighton, \\\\n I(Isat \\\\n to commence on the line of, and to form a commu- Line.) \\\\n nication with, the intended Railway from London to \\\\n Southampton, was presented, and read ; and ordered \\\\n to lie upon the Table. \\\\n A Petition of Land-owners in the counties of Sur- London and \\\\n rey and Sussex, and Inhabitants of London, \\\\n B \\\\n Croydon Brighton \\\\n Reigate, in the county of Surrey, and \\\\n Brighton, \\\\n Br \\\\n Line \\\\n nail- \\\\n and \\\\n - \\\\n . \\\\n in the county of Sussex, for leave to bring in a Bill for \\\\n making a Railway communication between the Me- \\\\n tropolis and the towns of Brighton, Shoreham, Lewes, \\\\n and the port of Newhaven, was presented, and read ; \\\\n and ordered to lie upon the Table. \\\\n A Petition of Trustees for executing the Act for Lobley Hill \\\\n repairing the Road from the Turnpike Road between Road. \\\\n Gateshead and Hexham, and Lobley Hill, in the \\\\n County of Durham, to Burtryford, in the Parish of \\\\n Stanhope, in the same County, together with several \\\\n Branches therefrom, for leave to bring in a Bill for \\\\n amending and enlarging the term and powers of the \\\\n said Act, and for altering and increasing the Tolls, \\\\n was presented, and read, and a \\\\n Bill was ordered to \\\\n be brought in accordingly, by Mr. Bowes and Mr. \\\\n Pease. \\\\n A Petition of Justices of the Peace of the county Worcester \\\\n of Worcester, for leave to bring in a Bill for enabling County Hall. \\\\n them to raise a further sum of money for carrying \\\\n into effect an Act passed in the first and second \\\\n years of His present Majesty, \\\\n for erecting a County \\\\n Hall and Courts of Justice, and also for providing \\\\n accommodation for His Majesty's Justices of Assize \\\\n in and for the county of Worcester, was presented, \\\\n and read ; and ordered to lie upon the Table. \\\\n A Petition of the Company of Proprietors of the Ellesmere and \\\\n Ellesmere and Chester Canal, for leave to bring in Chester Canal. \\\\n a Bill to alter and amend the \\\\n several Acts enabling \\\\n them to make a Reservoir, and to establish Vessels \\\\n for the conveyance of goods from Ellesmere Port \\\\n across the River Mersey, \\\\n and also to amend and \\\\n enlarge the powers of the Act relating to the \\\\n said \\\\n B 3 \\\\n Canal,\"\n",
      "Label: 6\n",
      "Text:  b'PETITION of several Persons whose names are there unto subscribed, for leave to bring in a Bill for making a Railway from London to Brighton, to commence on the line of, and to forma communication with, the intended Railway from London to Southampton, was presented, and read; and ordered to lie upon the Table.'\n",
      "Label: 8\n",
      "Text:  b'Resolved, That no Peer of the Realm, except \\\\n such Peers of Ireland as shall for the time being \\\\n be actually elected, and shall not have declined \\\\n to serve, for any County, City, or Borough of \\\\n Great Britain, hath any right to give his vote \\\\n in the Election of any Member to serve in \\\\n Parliament. \\\\n Resolved, That it is a high infringement of the \\\\n liberties and privileges of the Commons of the \\\\n United Kingdom for any Lord of Parliament, \\\\n or other Peer or Prelate, not being a Peer of \\\\n Ireland at the time elected, and not having \\\\n declined \\\\n to serve for any County, City, or \\\\n Borough of Great Britain, to concern himself in \\\\n the Election of Members to serve for the Com- \\\\n mons in Parliament., except only any Peer of \\\\n Ireland, at such Elections in Great Britain res- \\\\n pectively \\\\n % here such Peer shall appear as a \\\\n Candidate, or by himself, or any others, be pro- \\\\n posed to be elected ; or for any Lord Lieutenant \\\\n or Governor of any County to avail himself of \\\\n any authority derived from his Commission, to \\\\n influence the Election of any Member to \\\\n serve \\\\n for the Commons in Parliament. \\\\n Resolved, That if \\\\n it \\\\n shall appear that any \\\\n person hath been elected or returned a Member \\\\n of this \\\\n House, or endeavoured so \\\\n to be, by \\\\n Bribery, or any other corrupt practices, this \\\\n House will proceed with the utmost severity \\\\n against all such persons as shall have been wil- \\\\n fully concerned in such Bribery or other corrupt \\\\n practices. \\\\n Resolved, That if \\\\n it \\\\n shall appear that any \\\\n person hath been tampering with any Witness, \\\\n in respect of his evidence to be given to this \\\\n House, or any Committee thereof, \\\\n or directly or \\\\n indirectly Ipith endeavoured to deter or hinder \\\\n any person from appearing or giving evidence, \\\\n the same is declared to be a high crime and mis- \\\\n demeanor ; and this House will proceed with the \\\\n utmost severity against such offender. \\\\n Resolved, That if it \\\\n shall appear that any \\\\n person bath given false evidence in any case \\\\n before this House, or any Committee thereof, \\\\n this House will proceed with the utmost severity \\\\n against such offender. \\\\n Ordered, That the Commissioners of the Police \\\\n of the Metropolis do take care that, during the \\\\n Session of Parliament, the passages through the \\\\n streets leading to this House be kept free and \\\\n open, and that no obstruction be permitted to \\\\n hinder the passage of Members to and from this \\\\n House, and that no \\\\n disorder be allowed in \\\\n Westminster Hall, or in the \\\\n passages leading to \\\\n this House, during the sitting of Parliament, \\\\n and that there be no annoyance therein \\\\n or there- \\\\n abouts; and that the Serjeant-at-Arms attending \\\\n this House do communicate this Order to the \\\\n Commissioners aforesaid. \\\\n Ordered, That the Votes and Proceedings of \\\\n this House be printed, being first perused by \\\\n Mr. Speaker ; and that he do appoint the print- \\\\n ing thereof; and that no person but such \\\\n as he \\\\n shall appoint do presume to print the \\\\n same. \\\\n Ordered, That a Committee of Privileges be \\\\n appointed. \\\\n A Bill for \\\\n the more effectual \\\\n preventing Outlawries \\\\n Clandestine Outlawries was read the first time \\\\n ; \\\\n and ordered to be read a second time. \\\\n Ordered, That the Journal of this House, from \\\\n the end of the last Session to the end of the \\\\n present Session, with an Index to the 146th \\\\n Volume, be printed. \\\\n Ordered, That 750 Copies of the said Journal \\\\n and Index be printed by the appointment and \\\\n under the direction of Reginald Francis Douce \\\\n Palgrave, \\\\n Esquire, \\\\n C.B., \\\\n the \\\\n Clerk \\\\n of \\\\n this \\\\n House. \\\\n Ordered, That the said Journal and Index be \\\\n printed by such Person as shall be licensed by \\\\n Mr. Speaker, and that no other Person do pre- \\\\n sume to print the same. \\\\n The Lord \\\\n Advocate \\\\n presented, \\\\n by \\\\n Her Education \\\\n Majesty\\'s Command,Copy of Minute of the (Scotland.) \\\\n Committee of Council on Education in \\\\n Scot- \\\\n land, dated 18th August 1890, amending the \\\\n terms of Articles 127 and 133 of the Code of \\\\n 18 90. \\\\n \\'1 he Lord Advocate also presented,Return \\\\n to an Order dated the 16th day of August, in the \\\\n last Session of Parliament, for a Return of all \\\\n Convictions since the 29th day of September \\\\n 1887, of all Persone arrested for Drunkenness on \\\\n Sunday in Scotland, giving the Number in each \\\\n particular County or Burgh, with the Popula- \\\\n tion of each such County or Burgh (in continua- \\\\n tion of Parliamentary Papers, No. 14 of Session \\\\n 1885, and Nos. 57 and 315 of Session 1887). \\\\n The Lord Advocate also presented. pursuant \\\\n to the directions of several Acts of Parliament, \\\\n Copy of Rule made by the Secretary for Scotland \\\\n appointing two Police Cells within the Court \\\\n House Buildings at Lochmaddy to be a Legal \\\\n Prison for the detention of Prisoners for a period \\\\n not exceeding fourteen days before or during or \\\\n after trial. \\\\n Copy of Directions and Regulations issued by \\\\n the Board of Supervision under the Public Health \\\\n (Scotland) Act, 1867, prohibiting to the 31st \\\\n December 1890 the importation of Rags from \\\\n Spain (Cholera Regulations). \\\\n Copy of Directions and Regulations issued by \\\\n the Board of Supervision under the Public Health \\\\n (Scotland) Act, 1867, with regard to Ships in- \\\\n fected with Cholera arriving at Ports in Scotland. \\\\n Copy of Scheme under the Educational En- \\\\n dowments (Scotland) Act, 1882, for the Manage- \\\\n ment of the Endowment in \\\\n the Burgh and \\\\n County of Elgin known as the Elgin Institution \\\\n for the Support of Old Age and the Education of \\\\n Youth. \\\\n Approved by the \\\\n Scotch Education \\\\n Department. \\\\n Ordered, That the said Papers do lie upon the \\\\n fable ; and that the Paper relative to the Educa- \\\\n tional Endowments (Scotland) Act, 1882 (Elgin \\\\n Institution), be printed. \\\\n Mr. Secretary Matthews presented, by Her Westminster \\\\n Majesty\\'s Command,Copy of the First Report Abbey (Royal \\\\n of the Royal Commission appointed to inquire Commission.) \\\\n into the present want of space for Monuments in \\\\n Westminster Abbey, with Minutes of Evidence \\\\n and Appendices. \\\\n Copy of Return of Proceedings under \" The Irish Land \\\\n Land Law (Ireland) Acts, 1881 and 1887,\" Commission \\\\n \" The Labourers (Ireland) Acts, 1885 and 1886,\" \\\\n (Proceedings.) \\\\n and \\\\n \" The Purchase of Land (Ireland) Act, \\\\n 1885,\" during the months of August, September, \\\\n and October 1890. \\\\n Mr. \\\\n Secretary Matthews also \\\\n presented, Public \\\\n Return to an Address to Her Majesty, dated the Libraries Acts. \\\\n 24th day of March, in the last Session of Parlia- \\\\n ment, for a Return showing the Names of all Places \\\\n in tngland, in Scotland, and in Ireland in which \\\\n the \\\\n Journal. \\\\n Arrests for \\\\n Drunkenness \\\\n on Sunday \\\\n (Scotland.) \\\\n Prisons \\\\n (Scotland.) \\\\n Public Health \\\\n (Scotland) Act,. \\\\n 1567 (Cholera \\\\n Re gulations.) \\\\n Public Health \\\\n (Scotland) Act,. \\\\n 1867 (Cholera \\\\n Regulations.) \\\\n Educational \\\\n Endowments \\\\n (Scotland) Act, \\\\n 1882 (Elgin \\\\n Institution.) \\\\n No. 1. \\\\n r'\n",
      "Label: 12\n"
     ]
    },
    {
     "name": "stderr",
     "output_type": "stream",
     "text": [
      "2025-01-31 00:58:15.675879: I tensorflow/core/framework/local_rendezvous.cc:405] Local rendezvous is aborting with status: OUT_OF_RANGE: End of sequence\n"
     ]
    }
   ],
   "source": [
    "for text_batch, label_batch in tf_train_data.take(1):\n",
    "  for i in range(10):\n",
    "    print(\"Text: \", text_batch.numpy()[i])\n",
    "    print(\"Label:\", label_batch.numpy()[i])"
   ]
  },
  {
   "cell_type": "code",
   "execution_count": 14,
   "metadata": {},
   "outputs": [
    {
     "name": "stdout",
     "output_type": "stream",
     "text": [
      "Label 0 corresponds to Adjournment of Debate\n",
      "Label 1 corresponds to Appointment of Committees\n",
      "Label 2 corresponds to Division of the House\n",
      "Label 3 corresponds to Message from Royalty or Lords\n",
      "Label 4 corresponds to Motion for leave to bring Bill\n",
      "Label 5 corresponds to Motion withdrawn\n",
      "Label 6 corresponds to Order\n",
      "Label 7 corresponds to Petition\n",
      "Label 8 corresponds to Petition for leave to bring bill\n",
      "Label 9 corresponds to Reading of a Bill\n",
      "Label 10 corresponds to Reading of a Petition\n",
      "Label 11 corresponds to Reading of a Report\n",
      "Label 12 corresponds to Resolution\n"
     ]
    }
   ],
   "source": [
    "for i, label in enumerate(tf_train_data.class_names):\n",
    "  print(\"Label\", i, \"corresponds to\", label)"
   ]
  },
  {
   "cell_type": "markdown",
   "metadata": {},
   "source": [
    "Next, we can start the vectorisation of our training data. For this, we again get a vectorisation layer from our helber library, and then train it on our data!"
   ]
  },
  {
   "cell_type": "code",
   "execution_count": 15,
   "metadata": {},
   "outputs": [
    {
     "name": "stderr",
     "output_type": "stream",
     "text": [
      "2025-01-31 00:58:15.765702: I tensorflow/core/framework/local_rendezvous.cc:405] Local rendezvous is aborting with status: OUT_OF_RANGE: End of sequence\n"
     ]
    }
   ],
   "source": [
    "vectorize_layer = model_t.create_vec_layer()\n",
    "\n",
    "# Make a text-only dataset (without labels), then call adapt\n",
    "train_text = tf_train_data.map(lambda x, y: x)\n",
    "vectorize_layer.adapt(train_text)"
   ]
  },
  {
   "cell_type": "markdown",
   "metadata": {},
   "source": [
    "We can now test our vectorisation"
   ]
  },
  {
   "cell_type": "code",
   "execution_count": 16,
   "metadata": {},
   "outputs": [
    {
     "name": "stdout",
     "output_type": "stream",
     "text": [
      "Text tf.Tensor(b'Ordered, That the said Address be presented \\\\n to Her Majesty by such Members of this House \\\\n as are of Her Majesty\\'s Most honourable Privy \\\\n Council. \\\\n And then the House, having continued to sit \\\\n till a quarter of an hour after Ten of the \\\\n clock, adjourned till To-morrow. \\\\n Wednesday, 26th November, 1890. \\\\n THE House met at Twelve of the clock. \\\\n r \\\\n HE House being met, the Clerk at the Mr. Speaker\\'s \\\\n Table \\\\n informed \\\\n the \\\\n House, \\\\n \\'[hat \\\\n Mr. Absence. \\\\n Speaker was again unavoidably prevented from \\\\n taking the Chair of the House this day. \\\\n Whereupon Mr. Courtney, the Chairman of Prayers. \\\\n Ways and Means, proceeded to the Table ; \\\\n and, \\\\n after Prayers, took the Chair, as Deputy Speaker, \\\\n pursuant to the Standing Order. \\\\n Several Public Petitions were presented, and Public \\\\n read ; \\\\n and ordered to lie upon the Table. \\\\n Petitions., \\\\n Vide First \\\\n Report. \\\\n Ordered, That leave be given to brillg in a Bill Liquor Traffic \\\\n to enable Owners and Occupiers in \\\\n !vales \\\\n Locl Veto \\\\n have effectual control over the Liquor Traffic: \\\\n (Waales.) \\\\n And that Mr. Bowen Rowlands, Mr. Alfred \\\\n Thomas, Mr. Esslemont, Mr. Thomas Ellis, Mr. \\\\n Bryn Roberts, and Mr. Samuel Smith do prepare, \\\\n and bring it in. \\\\n Ordered, That leave be given to bring in a Bill Factory and \\\\n to amend \" The Factory and Workshops Act, Workshops \\\\n 1878 :\" And that Sir Henry James, Sir William Attei,(1d8,7 ,811) \\\\n Houldswotk, Viscount Oanborne, Mr. Mundella, \\\\n Sir Henry Roscoe, Mr. Mather, \\\\n Mowbray, \\\\n Mr. Howell, and Mr. Byron Reed do prepare, \\\\n and bring it in. \\\\n Ordered, That leave be given to bring in a Bill Parochial \\\\n to reform the Constitution of Parochial Boards Boards \\\\n in Scotland, and the mode of electing the Mem- \\\\n (Scotland.) \\\\n bers of such Boards: And that Dr. Cameron, \\\\n Mr. Barclay, Mr. Shiress Will, Dr. Farquhar-, \\\\n son, Mr. Esslemont, and Mr. Mackintosh do \\\\n prepare, and bring it in. \\\\n B 4 \\\\n Ordered,', shape=(), dtype=string)\n",
      "Class Order\n",
      "Vectorized Text (<tf.Tensor: shape=(1, 500), dtype=int64, numpy=\n",
      "array([[  15,    8,    3,   20,  206,   12,   30,    2,    6,  100,   60,\n",
      "          17,   27,   50,    4,   18,   13,    2,   44,  164,    4,  100,\n",
      "          72,  299,  281,  999,    2,  114,    2,    5,  276,    3,   13,\n",
      "         187, 1113,    6,  457,    2,  146,   11,  496,    4,   68,  511,\n",
      "          93,  950,    4,    3,    2,  182,  308,  146,  399,    2,  935,\n",
      "         764,  431,   83,    2,    3,   13,  329,   41,  946,    4,    3,\n",
      "         182,    2,  326,    2,   85,   13,   77,  329,    3,   84,   41,\n",
      "           3,    9,  597,    2,   34,    2,  507,    2,    3,    2,   13,\n",
      "           2, 1064,    2,    9, 1163,    2,   63,   26, 1159,  945, 1004,\n",
      "          43,    2,  401,    3,  419,    4,    3,   13,   18,  109,    2,\n",
      "         934,    9, 1108,    3,  271,    4,  244,    2,  454,    5,  658,\n",
      "         998,    6,    3,   34,    2,    5,    2,   93,  244,  398,    3,\n",
      "         419,   44,  176,   63,    2,  122,    6,    3,  354,   48,    2,\n",
      "          62,  167,  107,  174,   30,    5,  167,    2,   36,    2,    5,\n",
      "          15,    6,   42,   24,    3,   34,    2,  107,    2,  939,  117,\n",
      "           2,  110,    2,   15,    8,   38,   12,   56,    6, 1135,    7,\n",
      "          11,   32,  362,  165,    2,    6,  294,  279,    5,  345,    7,\n",
      "           2,  943,    2, 1038,  536,    2,   67,  332, 1111,  556,    3,\n",
      "         362,  165,    2,  938,    2,    5,    8,    9, 1137,  356,    9,\n",
      "         451,    2,  201,    9,  569,    9,  201,  739,    9,    2,  751,\n",
      "         705,    5,    9,  228,  699,   19,   94,    2,    5,   23,   37,\n",
      "           7,    2,   15,    8,   38,   12,   56,    6,   23,    7,   11,\n",
      "          32,  515,    5,    2,    6,   86,    3,  515,    5,  529,   25,\n",
      "         529,    2,  766,    5,    8,   47,  171,  280,   47,  149, 1149,\n",
      "        1165,    2, 1060,  264, 1022,    9, 1024,    2,   47,  171,  983,\n",
      "           9,  718,    2, 1025,    2,    9, 1059,    5,    9, 1130,  988,\n",
      "          19,   94,    2,    5,   23,   37,    7,    2,   15,    8,   38,\n",
      "          12,   56,    6,   23,    7,   11,   32,  554,    2,    6,  987,\n",
      "           3,  394,    4,  554,  248,  248,    2,    7,   66,    5,    3,\n",
      "         655,    4,  304,    3,  657,    2,   66,    2,  676,    4,   27,\n",
      "         248,    5,    8,  517, 1129,    2,    9,  481,    9,  542,   58,\n",
      "         517, 1081,    2,  963,    9,  569,    5,    9, 1036,   19,    2,\n",
      "          94,    5,   23,   37,    7,    2,  160,  172,    2,   15,    0,\n",
      "           0,    0,    0,    0,    0,    0,    0,    0,    0,    0,    0,\n",
      "           0,    0,    0,    0,    0,    0,    0,    0,    0,    0,    0,\n",
      "           0,    0,    0,    0,    0,    0,    0,    0,    0,    0,    0,\n",
      "           0,    0,    0,    0,    0,    0,    0,    0,    0,    0,    0,\n",
      "           0,    0,    0,    0,    0,    0,    0,    0,    0,    0,    0,\n",
      "           0,    0,    0,    0,    0,    0,    0,    0,    0,    0,    0,\n",
      "           0,    0,    0,    0,    0,    0,    0,    0,    0,    0,    0,\n",
      "           0,    0,    0,    0,    0,    0,    0,    0,    0,    0,    0,\n",
      "           0,    0,    0,    0,    0,    0,    0,    0,    0,    0,    0,\n",
      "           0,    0,    0,    0,    0,    0,    0,    0,    0,    0,    0,\n",
      "           0,    0,    0,    0,    0,    0,    0,    0,    0,    0,    0,\n",
      "           0,    0,    0,    0,    0,    0,    0,    0,    0,    0,    0,\n",
      "           0,    0,    0,    0,    0]])>, <tf.Tensor: shape=(), dtype=int32, numpy=6>)\n"
     ]
    }
   ],
   "source": [
    "def vectorize_text(text, label):\n",
    "  text = tf.expand_dims(text, -1)\n",
    "  return vectorize_layer(text), label\n",
    "\n",
    "text_batch, label_batch = next(iter(tf_train_data))\n",
    "first_review, first_label = text_batch[0], label_batch[0]\n",
    "print(\"Text\", first_review)\n",
    "print(\"Class\", tf_train_data.class_names[first_label])\n",
    "print(\"Vectorized Text\", vectorize_text(first_review, first_label))"
   ]
  },
  {
   "cell_type": "code",
   "execution_count": 17,
   "metadata": {},
   "outputs": [
    {
     "name": "stdout",
     "output_type": "stream",
     "text": [
      "1287 --->  gow\n",
      " 113 --->  also\n",
      "Vocabulary size: 2713\n"
     ]
    }
   ],
   "source": [
    "print(\"1287 ---> \",vectorize_layer.get_vocabulary()[1287])\n",
    "print(\" 113 ---> \",vectorize_layer.get_vocabulary()[113])\n",
    "print('Vocabulary size: {}'.format(len(vectorize_layer.get_vocabulary())))"
   ]
  },
  {
   "cell_type": "markdown",
   "metadata": {},
   "source": [
    "# Training the Model\n",
    "\n",
    "Now we can convert our data using the vectorisation and finally start creating and training our model"
   ]
  },
  {
   "cell_type": "code",
   "execution_count": 18,
   "metadata": {},
   "outputs": [],
   "source": [
    "train_data = tf_train_data.map(vectorize_text)\n",
    "val_data = tf_val_data.map(vectorize_text)\n",
    "test_data = tf_train_data.map(vectorize_text)"
   ]
  },
  {
   "cell_type": "code",
   "execution_count": 19,
   "metadata": {},
   "outputs": [
    {
     "data": {
      "text/html": [
       "<pre style=\"white-space:pre;overflow-x:auto;line-height:normal;font-family:Menlo,'DejaVu Sans Mono',consolas,'Courier New',monospace\"><span style=\"font-weight: bold\">Model: \"sequential\"</span>\n",
       "</pre>\n"
      ],
      "text/plain": [
       "\u001b[1mModel: \"sequential\"\u001b[0m\n"
      ]
     },
     "metadata": {},
     "output_type": "display_data"
    },
    {
     "data": {
      "text/html": [
       "<pre style=\"white-space:pre;overflow-x:auto;line-height:normal;font-family:Menlo,'DejaVu Sans Mono',consolas,'Courier New',monospace\">┏━━━━━━━━━━━━━━━━━━━━━━━━━━━━━━━━━┳━━━━━━━━━━━━━━━━━━━━━━━━┳━━━━━━━━━━━━━━━┓\n",
       "┃<span style=\"font-weight: bold\"> Layer (type)                    </span>┃<span style=\"font-weight: bold\"> Output Shape           </span>┃<span style=\"font-weight: bold\">       Param # </span>┃\n",
       "┡━━━━━━━━━━━━━━━━━━━━━━━━━━━━━━━━━╇━━━━━━━━━━━━━━━━━━━━━━━━╇━━━━━━━━━━━━━━━┩\n",
       "│ embedding (<span style=\"color: #0087ff; text-decoration-color: #0087ff\">Embedding</span>)           │ ?                      │   <span style=\"color: #00af00; text-decoration-color: #00af00\">0</span> (unbuilt) │\n",
       "├─────────────────────────────────┼────────────────────────┼───────────────┤\n",
       "│ dropout (<span style=\"color: #0087ff; text-decoration-color: #0087ff\">Dropout</span>)               │ ?                      │             <span style=\"color: #00af00; text-decoration-color: #00af00\">0</span> │\n",
       "├─────────────────────────────────┼────────────────────────┼───────────────┤\n",
       "│ global_average_pooling1d        │ ?                      │             <span style=\"color: #00af00; text-decoration-color: #00af00\">0</span> │\n",
       "│ (<span style=\"color: #0087ff; text-decoration-color: #0087ff\">GlobalAveragePooling1D</span>)        │                        │               │\n",
       "├─────────────────────────────────┼────────────────────────┼───────────────┤\n",
       "│ dropout_1 (<span style=\"color: #0087ff; text-decoration-color: #0087ff\">Dropout</span>)             │ ?                      │             <span style=\"color: #00af00; text-decoration-color: #00af00\">0</span> │\n",
       "├─────────────────────────────────┼────────────────────────┼───────────────┤\n",
       "│ dense (<span style=\"color: #0087ff; text-decoration-color: #0087ff\">Dense</span>)                   │ ?                      │   <span style=\"color: #00af00; text-decoration-color: #00af00\">0</span> (unbuilt) │\n",
       "└─────────────────────────────────┴────────────────────────┴───────────────┘\n",
       "</pre>\n"
      ],
      "text/plain": [
       "┏━━━━━━━━━━━━━━━━━━━━━━━━━━━━━━━━━┳━━━━━━━━━━━━━━━━━━━━━━━━┳━━━━━━━━━━━━━━━┓\n",
       "┃\u001b[1m \u001b[0m\u001b[1mLayer (type)                   \u001b[0m\u001b[1m \u001b[0m┃\u001b[1m \u001b[0m\u001b[1mOutput Shape          \u001b[0m\u001b[1m \u001b[0m┃\u001b[1m \u001b[0m\u001b[1m      Param #\u001b[0m\u001b[1m \u001b[0m┃\n",
       "┡━━━━━━━━━━━━━━━━━━━━━━━━━━━━━━━━━╇━━━━━━━━━━━━━━━━━━━━━━━━╇━━━━━━━━━━━━━━━┩\n",
       "│ embedding (\u001b[38;5;33mEmbedding\u001b[0m)           │ ?                      │   \u001b[38;5;34m0\u001b[0m (unbuilt) │\n",
       "├─────────────────────────────────┼────────────────────────┼───────────────┤\n",
       "│ dropout (\u001b[38;5;33mDropout\u001b[0m)               │ ?                      │             \u001b[38;5;34m0\u001b[0m │\n",
       "├─────────────────────────────────┼────────────────────────┼───────────────┤\n",
       "│ global_average_pooling1d        │ ?                      │             \u001b[38;5;34m0\u001b[0m │\n",
       "│ (\u001b[38;5;33mGlobalAveragePooling1D\u001b[0m)        │                        │               │\n",
       "├─────────────────────────────────┼────────────────────────┼───────────────┤\n",
       "│ dropout_1 (\u001b[38;5;33mDropout\u001b[0m)             │ ?                      │             \u001b[38;5;34m0\u001b[0m │\n",
       "├─────────────────────────────────┼────────────────────────┼───────────────┤\n",
       "│ dense (\u001b[38;5;33mDense\u001b[0m)                   │ ?                      │   \u001b[38;5;34m0\u001b[0m (unbuilt) │\n",
       "└─────────────────────────────────┴────────────────────────┴───────────────┘\n"
      ]
     },
     "metadata": {},
     "output_type": "display_data"
    },
    {
     "data": {
      "text/html": [
       "<pre style=\"white-space:pre;overflow-x:auto;line-height:normal;font-family:Menlo,'DejaVu Sans Mono',consolas,'Courier New',monospace\"><span style=\"font-weight: bold\"> Total params: </span><span style=\"color: #00af00; text-decoration-color: #00af00\">0</span> (0.00 B)\n",
       "</pre>\n"
      ],
      "text/plain": [
       "\u001b[1m Total params: \u001b[0m\u001b[38;5;34m0\u001b[0m (0.00 B)\n"
      ]
     },
     "metadata": {},
     "output_type": "display_data"
    },
    {
     "data": {
      "text/html": [
       "<pre style=\"white-space:pre;overflow-x:auto;line-height:normal;font-family:Menlo,'DejaVu Sans Mono',consolas,'Courier New',monospace\"><span style=\"font-weight: bold\"> Trainable params: </span><span style=\"color: #00af00; text-decoration-color: #00af00\">0</span> (0.00 B)\n",
       "</pre>\n"
      ],
      "text/plain": [
       "\u001b[1m Trainable params: \u001b[0m\u001b[38;5;34m0\u001b[0m (0.00 B)\n"
      ]
     },
     "metadata": {},
     "output_type": "display_data"
    },
    {
     "data": {
      "text/html": [
       "<pre style=\"white-space:pre;overflow-x:auto;line-height:normal;font-family:Menlo,'DejaVu Sans Mono',consolas,'Courier New',monospace\"><span style=\"font-weight: bold\"> Non-trainable params: </span><span style=\"color: #00af00; text-decoration-color: #00af00\">0</span> (0.00 B)\n",
       "</pre>\n"
      ],
      "text/plain": [
       "\u001b[1m Non-trainable params: \u001b[0m\u001b[38;5;34m0\u001b[0m (0.00 B)\n"
      ]
     },
     "metadata": {},
     "output_type": "display_data"
    }
   ],
   "source": [
    "model_init = model_t.init_model(output_amount=len(class_names))\n",
    "\n",
    "model_init.summary()"
   ]
  },
  {
   "cell_type": "code",
   "execution_count": 20,
   "metadata": {},
   "outputs": [
    {
     "name": "stdout",
     "output_type": "stream",
     "text": [
      "Epoch 1/12\n"
     ]
    },
    {
     "name": "stderr",
     "output_type": "stream",
     "text": [
      "/home/sebastianfath/.pyenv/versions/3.12.5/lib/python3.12/site-packages/keras/src/backend/tensorflow/nn.py:708: UserWarning: \"`sparse_categorical_crossentropy` received `from_logits=True`, but the `output` argument was produced by a Softmax activation and thus does not represent logits. Was this intended?\n",
      "  output, from_logits = _get_logits(\n"
     ]
    },
    {
     "name": "stdout",
     "output_type": "stream",
     "text": [
      "\u001b[1m5/5\u001b[0m \u001b[32m━━━━━━━━━━━━━━━━━━━━\u001b[0m\u001b[37m\u001b[0m \u001b[1m1s\u001b[0m 45ms/step - accuracy: 0.2171 - loss: 2.5339 - val_accuracy: 0.5250 - val_loss: 2.4050\n",
      "Epoch 2/12\n",
      "\u001b[1m5/5\u001b[0m \u001b[32m━━━━━━━━━━━━━━━━━━━━\u001b[0m\u001b[37m\u001b[0m \u001b[1m0s\u001b[0m 24ms/step - accuracy: 0.4339 - loss: 2.4321 - val_accuracy: 0.5250 - val_loss: 2.2706\n",
      "Epoch 3/12\n",
      "\u001b[1m5/5\u001b[0m \u001b[32m━━━━━━━━━━━━━━━━━━━━\u001b[0m\u001b[37m\u001b[0m \u001b[1m0s\u001b[0m 23ms/step - accuracy: 0.4535 - loss: 2.3238 - val_accuracy: 0.5250 - val_loss: 2.1512\n",
      "Epoch 4/12\n",
      "\u001b[1m5/5\u001b[0m \u001b[32m━━━━━━━━━━━━━━━━━━━━\u001b[0m\u001b[37m\u001b[0m \u001b[1m0s\u001b[0m 25ms/step - accuracy: 0.4209 - loss: 2.2449 - val_accuracy: 0.5250 - val_loss: 2.0520\n",
      "Epoch 5/12\n",
      "\u001b[1m5/5\u001b[0m \u001b[32m━━━━━━━━━━━━━━━━━━━━\u001b[0m\u001b[37m\u001b[0m \u001b[1m0s\u001b[0m 23ms/step - accuracy: 0.4621 - loss: 2.1747 - val_accuracy: 0.5250 - val_loss: 1.9731\n",
      "Epoch 6/12\n",
      "\u001b[1m5/5\u001b[0m \u001b[32m━━━━━━━━━━━━━━━━━━━━\u001b[0m\u001b[37m\u001b[0m \u001b[1m0s\u001b[0m 23ms/step - accuracy: 0.4651 - loss: 2.0900 - val_accuracy: 0.5250 - val_loss: 1.9074\n",
      "Epoch 7/12\n",
      "\u001b[1m5/5\u001b[0m \u001b[32m━━━━━━━━━━━━━━━━━━━━\u001b[0m\u001b[37m\u001b[0m \u001b[1m0s\u001b[0m 23ms/step - accuracy: 0.4753 - loss: 2.0503 - val_accuracy: 0.5250 - val_loss: 1.8522\n",
      "Epoch 8/12\n",
      "\u001b[1m5/5\u001b[0m \u001b[32m━━━━━━━━━━━━━━━━━━━━\u001b[0m\u001b[37m\u001b[0m \u001b[1m0s\u001b[0m 22ms/step - accuracy: 0.4569 - loss: 2.0098 - val_accuracy: 0.5250 - val_loss: 1.8101\n",
      "Epoch 9/12\n",
      "\u001b[1m5/5\u001b[0m \u001b[32m━━━━━━━━━━━━━━━━━━━━\u001b[0m\u001b[37m\u001b[0m \u001b[1m0s\u001b[0m 22ms/step - accuracy: 0.4616 - loss: 2.0128 - val_accuracy: 0.5250 - val_loss: 1.7768\n",
      "Epoch 10/12\n",
      "\u001b[1m5/5\u001b[0m \u001b[32m━━━━━━━━━━━━━━━━━━━━\u001b[0m\u001b[37m\u001b[0m \u001b[1m0s\u001b[0m 22ms/step - accuracy: 0.4240 - loss: 1.9882 - val_accuracy: 0.5250 - val_loss: 1.7526\n",
      "Epoch 11/12\n",
      "\u001b[1m5/5\u001b[0m \u001b[32m━━━━━━━━━━━━━━━━━━━━\u001b[0m\u001b[37m\u001b[0m \u001b[1m0s\u001b[0m 22ms/step - accuracy: 0.4655 - loss: 1.8495 - val_accuracy: 0.5250 - val_loss: 1.7237\n",
      "Epoch 12/12\n",
      "\u001b[1m5/5\u001b[0m \u001b[32m━━━━━━━━━━━━━━━━━━━━\u001b[0m\u001b[37m\u001b[0m \u001b[1m0s\u001b[0m 22ms/step - accuracy: 0.3710 - loss: 1.9551 - val_accuracy: 0.5250 - val_loss: 1.6999\n"
     ]
    },
    {
     "data": {
      "text/html": [
       "<pre style=\"white-space:pre;overflow-x:auto;line-height:normal;font-family:Menlo,'DejaVu Sans Mono',consolas,'Courier New',monospace\"><span style=\"font-weight: bold\">Model: \"sequential\"</span>\n",
       "</pre>\n"
      ],
      "text/plain": [
       "\u001b[1mModel: \"sequential\"\u001b[0m\n"
      ]
     },
     "metadata": {},
     "output_type": "display_data"
    },
    {
     "data": {
      "text/html": [
       "<pre style=\"white-space:pre;overflow-x:auto;line-height:normal;font-family:Menlo,'DejaVu Sans Mono',consolas,'Courier New',monospace\">┏━━━━━━━━━━━━━━━━━━━━━━━━━━━━━━━━━┳━━━━━━━━━━━━━━━━━━━━━━━━┳━━━━━━━━━━━━━━━┓\n",
       "┃<span style=\"font-weight: bold\"> Layer (type)                    </span>┃<span style=\"font-weight: bold\"> Output Shape           </span>┃<span style=\"font-weight: bold\">       Param # </span>┃\n",
       "┡━━━━━━━━━━━━━━━━━━━━━━━━━━━━━━━━━╇━━━━━━━━━━━━━━━━━━━━━━━━╇━━━━━━━━━━━━━━━┩\n",
       "│ embedding (<span style=\"color: #0087ff; text-decoration-color: #0087ff\">Embedding</span>)           │ (<span style=\"color: #00d7ff; text-decoration-color: #00d7ff\">None</span>, <span style=\"color: #00d7ff; text-decoration-color: #00d7ff\">None</span>, <span style=\"color: #00af00; text-decoration-color: #00af00\">16</span>)       │     <span style=\"color: #00af00; text-decoration-color: #00af00\">1,600,000</span> │\n",
       "├─────────────────────────────────┼────────────────────────┼───────────────┤\n",
       "│ dropout (<span style=\"color: #0087ff; text-decoration-color: #0087ff\">Dropout</span>)               │ (<span style=\"color: #00d7ff; text-decoration-color: #00d7ff\">None</span>, <span style=\"color: #00d7ff; text-decoration-color: #00d7ff\">None</span>, <span style=\"color: #00af00; text-decoration-color: #00af00\">16</span>)       │             <span style=\"color: #00af00; text-decoration-color: #00af00\">0</span> │\n",
       "├─────────────────────────────────┼────────────────────────┼───────────────┤\n",
       "│ global_average_pooling1d        │ (<span style=\"color: #00d7ff; text-decoration-color: #00d7ff\">None</span>, <span style=\"color: #00af00; text-decoration-color: #00af00\">16</span>)             │             <span style=\"color: #00af00; text-decoration-color: #00af00\">0</span> │\n",
       "│ (<span style=\"color: #0087ff; text-decoration-color: #0087ff\">GlobalAveragePooling1D</span>)        │                        │               │\n",
       "├─────────────────────────────────┼────────────────────────┼───────────────┤\n",
       "│ dropout_1 (<span style=\"color: #0087ff; text-decoration-color: #0087ff\">Dropout</span>)             │ (<span style=\"color: #00d7ff; text-decoration-color: #00d7ff\">None</span>, <span style=\"color: #00af00; text-decoration-color: #00af00\">16</span>)             │             <span style=\"color: #00af00; text-decoration-color: #00af00\">0</span> │\n",
       "├─────────────────────────────────┼────────────────────────┼───────────────┤\n",
       "│ dense (<span style=\"color: #0087ff; text-decoration-color: #0087ff\">Dense</span>)                   │ (<span style=\"color: #00d7ff; text-decoration-color: #00d7ff\">None</span>, <span style=\"color: #00af00; text-decoration-color: #00af00\">13</span>)             │           <span style=\"color: #00af00; text-decoration-color: #00af00\">221</span> │\n",
       "└─────────────────────────────────┴────────────────────────┴───────────────┘\n",
       "</pre>\n"
      ],
      "text/plain": [
       "┏━━━━━━━━━━━━━━━━━━━━━━━━━━━━━━━━━┳━━━━━━━━━━━━━━━━━━━━━━━━┳━━━━━━━━━━━━━━━┓\n",
       "┃\u001b[1m \u001b[0m\u001b[1mLayer (type)                   \u001b[0m\u001b[1m \u001b[0m┃\u001b[1m \u001b[0m\u001b[1mOutput Shape          \u001b[0m\u001b[1m \u001b[0m┃\u001b[1m \u001b[0m\u001b[1m      Param #\u001b[0m\u001b[1m \u001b[0m┃\n",
       "┡━━━━━━━━━━━━━━━━━━━━━━━━━━━━━━━━━╇━━━━━━━━━━━━━━━━━━━━━━━━╇━━━━━━━━━━━━━━━┩\n",
       "│ embedding (\u001b[38;5;33mEmbedding\u001b[0m)           │ (\u001b[38;5;45mNone\u001b[0m, \u001b[38;5;45mNone\u001b[0m, \u001b[38;5;34m16\u001b[0m)       │     \u001b[38;5;34m1,600,000\u001b[0m │\n",
       "├─────────────────────────────────┼────────────────────────┼───────────────┤\n",
       "│ dropout (\u001b[38;5;33mDropout\u001b[0m)               │ (\u001b[38;5;45mNone\u001b[0m, \u001b[38;5;45mNone\u001b[0m, \u001b[38;5;34m16\u001b[0m)       │             \u001b[38;5;34m0\u001b[0m │\n",
       "├─────────────────────────────────┼────────────────────────┼───────────────┤\n",
       "│ global_average_pooling1d        │ (\u001b[38;5;45mNone\u001b[0m, \u001b[38;5;34m16\u001b[0m)             │             \u001b[38;5;34m0\u001b[0m │\n",
       "│ (\u001b[38;5;33mGlobalAveragePooling1D\u001b[0m)        │                        │               │\n",
       "├─────────────────────────────────┼────────────────────────┼───────────────┤\n",
       "│ dropout_1 (\u001b[38;5;33mDropout\u001b[0m)             │ (\u001b[38;5;45mNone\u001b[0m, \u001b[38;5;34m16\u001b[0m)             │             \u001b[38;5;34m0\u001b[0m │\n",
       "├─────────────────────────────────┼────────────────────────┼───────────────┤\n",
       "│ dense (\u001b[38;5;33mDense\u001b[0m)                   │ (\u001b[38;5;45mNone\u001b[0m, \u001b[38;5;34m13\u001b[0m)             │           \u001b[38;5;34m221\u001b[0m │\n",
       "└─────────────────────────────────┴────────────────────────┴───────────────┘\n"
      ]
     },
     "metadata": {},
     "output_type": "display_data"
    },
    {
     "data": {
      "text/html": [
       "<pre style=\"white-space:pre;overflow-x:auto;line-height:normal;font-family:Menlo,'DejaVu Sans Mono',consolas,'Courier New',monospace\"><span style=\"font-weight: bold\"> Total params: </span><span style=\"color: #00af00; text-decoration-color: #00af00\">4,800,665</span> (18.31 MB)\n",
       "</pre>\n"
      ],
      "text/plain": [
       "\u001b[1m Total params: \u001b[0m\u001b[38;5;34m4,800,665\u001b[0m (18.31 MB)\n"
      ]
     },
     "metadata": {},
     "output_type": "display_data"
    },
    {
     "data": {
      "text/html": [
       "<pre style=\"white-space:pre;overflow-x:auto;line-height:normal;font-family:Menlo,'DejaVu Sans Mono',consolas,'Courier New',monospace\"><span style=\"font-weight: bold\"> Trainable params: </span><span style=\"color: #00af00; text-decoration-color: #00af00\">1,600,221</span> (6.10 MB)\n",
       "</pre>\n"
      ],
      "text/plain": [
       "\u001b[1m Trainable params: \u001b[0m\u001b[38;5;34m1,600,221\u001b[0m (6.10 MB)\n"
      ]
     },
     "metadata": {},
     "output_type": "display_data"
    },
    {
     "data": {
      "text/html": [
       "<pre style=\"white-space:pre;overflow-x:auto;line-height:normal;font-family:Menlo,'DejaVu Sans Mono',consolas,'Courier New',monospace\"><span style=\"font-weight: bold\"> Non-trainable params: </span><span style=\"color: #00af00; text-decoration-color: #00af00\">0</span> (0.00 B)\n",
       "</pre>\n"
      ],
      "text/plain": [
       "\u001b[1m Non-trainable params: \u001b[0m\u001b[38;5;34m0\u001b[0m (0.00 B)\n"
      ]
     },
     "metadata": {},
     "output_type": "display_data"
    },
    {
     "data": {
      "text/html": [
       "<pre style=\"white-space:pre;overflow-x:auto;line-height:normal;font-family:Menlo,'DejaVu Sans Mono',consolas,'Courier New',monospace\"><span style=\"font-weight: bold\"> Optimizer params: </span><span style=\"color: #00af00; text-decoration-color: #00af00\">3,200,444</span> (12.21 MB)\n",
       "</pre>\n"
      ],
      "text/plain": [
       "\u001b[1m Optimizer params: \u001b[0m\u001b[38;5;34m3,200,444\u001b[0m (12.21 MB)\n"
      ]
     },
     "metadata": {},
     "output_type": "display_data"
    }
   ],
   "source": [
    "model, history = model_t.train_model(model_init, train_data, val_data, epochs=12)\n",
    "\n",
    "model.summary()"
   ]
  },
  {
   "cell_type": "markdown",
   "metadata": {},
   "source": [
    "# Analyse and Eval Training and Model"
   ]
  },
  {
   "cell_type": "code",
   "execution_count": 21,
   "metadata": {},
   "outputs": [
    {
     "data": {
      "text/plain": [
       "dict_keys(['accuracy', 'loss', 'val_accuracy', 'val_loss'])"
      ]
     },
     "execution_count": 21,
     "metadata": {},
     "output_type": "execute_result"
    }
   ],
   "source": [
    "history_dict = history.history\n",
    "history_dict.keys()"
   ]
  },
  {
   "cell_type": "code",
   "execution_count": 22,
   "metadata": {},
   "outputs": [
    {
     "data": {
      "image/png": "[encoded data removed]",
      "text/plain": [
       "<Figure size 640x480 with 1 Axes>"
      ]
     },
     "metadata": {},
     "output_type": "display_data"
    }
   ],
   "source": [
    "\n",
    "\n",
    "acc = history_dict['accuracy']\n",
    "val_acc = history_dict['val_accuracy']\n",
    "loss = history_dict['loss']\n",
    "val_loss = history_dict['val_loss']\n",
    "\n",
    "epochs = range(1, len(acc) + 1)\n",
    "\n",
    "plt.plot(epochs, loss, 'ro', label='Training loss')\n",
    "plt.plot(epochs, val_loss, 'r', label='Validation loss')\n",
    "plt.title('Training and validation loss')\n",
    "plt.xlabel('Epochs')\n",
    "plt.ylabel('Loss')\n",
    "plt.legend()\n",
    "\n",
    "plt.show()"
   ]
  },
  {
   "cell_type": "code",
   "execution_count": 23,
   "metadata": {},
   "outputs": [
    {
     "data": {
      "image/png": "[encoded data removed]",
      "text/plain": [
       "<Figure size 640x480 with 1 Axes>"
      ]
     },
     "metadata": {},
     "output_type": "display_data"
    }
   ],
   "source": [
    "plt.plot(epochs, acc, 'ro', label='Training acc')\n",
    "plt.plot(epochs, val_acc, 'r', label='Validation acc')\n",
    "plt.title('Training and validation accuracy')\n",
    "plt.xlabel('Epochs')\n",
    "plt.ylabel('Accuracy')\n",
    "plt.legend(loc='lower right')\n",
    "\n",
    "plt.show()"
   ]
  },
  {
   "cell_type": "code",
   "execution_count": 46,
   "metadata": {},
   "outputs": [
    {
     "data": {
      "text/plain": [
       "<matplotlib.legend.Legend at 0x7d68a336ecf0>"
      ]
     },
     "execution_count": 46,
     "metadata": {},
     "output_type": "execute_result"
    },
    {
     "data": {
      "image/png": "[encoded data removed]",
      "text/plain": [
       "<Figure size 1600x500 with 2 Axes>"
      ]
     },
     "metadata": {},
     "output_type": "display_data"
    }
   ],
   "source": [
    "# better design\n",
    "fig, axs = plt.subplots(1, 2)\n",
    "fig.set_size_inches(16, 5)\n",
    "fig.suptitle(\"Evaluation of Training\")\n",
    "\n",
    "axs[0].plot(epochs, loss, 'ro', label='Training loss')\n",
    "axs[0].plot(epochs, val_loss, 'r', label='Validation loss')\n",
    "axs[0].set_title('Training and validation loss')\n",
    "axs[0].set_xlabel('Epochs')\n",
    "axs[0].set_ylabel('Loss')\n",
    "axs[0].legend()\n",
    "\n",
    "axs[1].plot(epochs, acc, 'ro', label='Training acc')\n",
    "axs[1].plot(epochs, val_acc, 'r', label='Validation acc')\n",
    "axs[1].set_title('Training and validation accuracy')\n",
    "axs[1].set_xlabel('Epochs')\n",
    "axs[1].set_ylabel('Accuracy')\n",
    "axs[1].legend(loc='lower right')\n"
   ]
  },
  {
   "cell_type": "markdown",
   "metadata": {},
   "source": [
    "# Export Model and explore"
   ]
  },
  {
   "cell_type": "code",
   "execution_count": 24,
   "metadata": {},
   "outputs": [],
   "source": [
    "final_model = model_t.add_vec_to_model(model, vectorize_layer)\n",
    "\n",
    "examples = tf.constant([\n",
    "    \"Ordered, That no Bills, other than Government Bills, be introduced in anticipation of the Ballot, and that all Members who desire to ballot, whether for Bills or for Motions for Wednesdays the 30th November, 7th, 14th, and 21st December, do hand in their names at the Table during the Sitting of the House on Tuesday 22nd November or Wednesday 23rd November; and that a copy of the notice of such Bill or Motion be handed in at the latest during the Sitting of the House on Thursday the 24th November. \",\n",
    "    \"Colonel Sir Walter Smiles, supported by Colonel Sir Kenyan, Vaughan-Morgan, Captain Bill Elliston, Mr. Rosbotham, Mr. Richard Russell, Sir Walter Greaves-Lord, Miss Horsbrugh, Mr. Buchan, Mr. Alexander Ramsay, and Mr. Cocks, presented a Bill to provide for the licensing of Dog-racing courses: And the same was ordered to be read a second time upon Friday next; and to be printed\"\n",
    "])"
   ]
  },
  {
   "cell_type": "code",
   "execution_count": 28,
   "metadata": {},
   "outputs": [
    {
     "name": "stdout",
     "output_type": "stream",
     "text": [
      "\u001b[1m1/1\u001b[0m \u001b[32m━━━━━━━━━━━━━━━━━━━━\u001b[0m\u001b[37m\u001b[0m \u001b[1m0s\u001b[0m 19ms/step\n",
      "Prediction 0\n",
      "example is a Adjournment of Debate with a certainty of 0.58867127\n",
      "example is a Appointment of Committees with a certainty of 0.61020535\n",
      "example is a Division of the House with a certainty of 0.5925432\n",
      "example is a Message from Royalty or Lords with a certainty of 0.5630522\n",
      "example is a Motion for leave to bring Bill with a certainty of 0.6602842\n",
      "example is a Motion withdrawn with a certainty of 0.58830774\n",
      "example is a Order with a certainty of 0.703263\n",
      "example is a Petition with a certainty of 0.63716805\n",
      "example is a Petition for leave to bring bill with a certainty of 0.5798513\n",
      "example is a Reading of a Bill with a certainty of 0.5994152\n",
      "example is a Reading of a Petition with a certainty of 0.5760221\n",
      "example is a Reading of a Report with a certainty of 0.5934327\n",
      "example is a Resolution with a certainty of 0.69993234\n",
      "Prediction 1\n",
      "example is a Adjournment of Debate with a certainty of 0.5866008\n",
      "example is a Appointment of Committees with a certainty of 0.61063504\n",
      "example is a Division of the House with a certainty of 0.59007704\n",
      "example is a Message from Royalty or Lords with a certainty of 0.55986935\n",
      "example is a Motion for leave to bring Bill with a certainty of 0.6622302\n",
      "example is a Motion withdrawn with a certainty of 0.58692575\n",
      "example is a Order with a certainty of 0.70456123\n",
      "example is a Petition with a certainty of 0.63956213\n",
      "example is a Petition for leave to bring bill with a certainty of 0.57848966\n",
      "example is a Reading of a Bill with a certainty of 0.5996166\n",
      "example is a Reading of a Petition with a certainty of 0.5742947\n",
      "example is a Reading of a Report with a certainty of 0.5927948\n",
      "example is a Resolution with a certainty of 0.7022738\n"
     ]
    }
   ],
   "source": [
    "predictions = final_model.predict(examples)\n",
    "\n",
    "for i, prediction in enumerate(predictions):\n",
    "    print(\"Prediction\", i)\n",
    "    for i, p in enumerate(prediction):\n",
    "        print(\"example is a\", tf_train_data.class_names[i], \"with a certainty of\", p)"
   ]
  },
  {
   "cell_type": "code",
   "execution_count": 49,
   "metadata": {},
   "outputs": [
    {
     "data": {
      "image/png": "[encoded data removed]",
      "text/plain": [
       "<Figure size 1600x500 with 2 Axes>"
      ]
     },
     "metadata": {},
     "output_type": "display_data"
    }
   ],
   "source": [
    "fig, axs = plt.subplots(1, len(predictions))\n",
    "fig.set_size_inches(16, 5)\n",
    "fig.suptitle(\"Predictions\")\n",
    "for index, prediction in enumerate(predictions):\n",
    "    axs[index].bar(tf_train_data.class_names, prediction, color='red')\n",
    "    axs[index].set(ylim=(0,1))\n",
    "    axs[index].tick_params(axis='x', labelrotation=90)"
   ]
  },
  {
   "cell_type": "code",
   "execution_count": 50,
   "metadata": {},
   "outputs": [
    {
     "name": "stdout",
     "output_type": "stream",
     "text": [
      "\u001b[1m1/5\u001b[0m \u001b[32m━━━━\u001b[0m\u001b[37m━━━━━━━━━━━━━━━━\u001b[0m \u001b[1m1s\u001b[0m 262ms/step - accuracy: 0.5000 - loss: 2.3823"
     ]
    },
    {
     "name": "stderr",
     "output_type": "stream",
     "text": [
      "/home/sebastianfath/.pyenv/versions/3.12.5/lib/python3.12/site-packages/keras/src/backend/tensorflow/nn.py:708: UserWarning: \"`sparse_categorical_crossentropy` received `from_logits=True`, but the `output` argument was produced by a Softmax activation and thus does not represent logits. Was this intended?\n",
      "  output, from_logits = _get_logits(\n"
     ]
    },
    {
     "name": "stdout",
     "output_type": "stream",
     "text": [
      "\u001b[1m5/5\u001b[0m \u001b[32m━━━━━━━━━━━━━━━━━━━━\u001b[0m\u001b[37m\u001b[0m \u001b[1m0s\u001b[0m 4ms/step - accuracy: 0.4548 - loss: 2.3509  \n",
      "{'accuracy': 0.4437499940395355, 'loss': 2.337174654006958}\n"
     ]
    }
   ],
   "source": [
    "# Test it with `raw_test_ds`, which yields raw strings\n",
    "metrics = final_model.evaluate(tf_train_data, return_dict=True)\n",
    "print(metrics)"
   ]
  },
  {
   "cell_type": "code",
   "execution_count": 51,
   "metadata": {},
   "outputs": [],
   "source": [
    "# save model to disk as .keras\n",
    "\n",
    "Path(\"out/\").mkdir(parents=True, exist_ok=True)\n",
    "model.save('out/parlamentary_actions_cat.keras')"
   ]
  },
  {
   "cell_type": "code",
   "execution_count": 52,
   "metadata": {},
   "outputs": [
    {
     "data": {
      "text/html": [
       "<pre style=\"white-space:pre;overflow-x:auto;line-height:normal;font-family:Menlo,'DejaVu Sans Mono',consolas,'Courier New',monospace\"><span style=\"font-weight: bold\">Model: \"sequential\"</span>\n",
       "</pre>\n"
      ],
      "text/plain": [
       "\u001b[1mModel: \"sequential\"\u001b[0m\n"
      ]
     },
     "metadata": {},
     "output_type": "display_data"
    },
    {
     "data": {
      "text/html": [
       "<pre style=\"white-space:pre;overflow-x:auto;line-height:normal;font-family:Menlo,'DejaVu Sans Mono',consolas,'Courier New',monospace\">┏━━━━━━━━━━━━━━━━━━━━━━━━━━━━━━━━━┳━━━━━━━━━━━━━━━━━━━━━━━━┳━━━━━━━━━━━━━━━┓\n",
       "┃<span style=\"font-weight: bold\"> Layer (type)                    </span>┃<span style=\"font-weight: bold\"> Output Shape           </span>┃<span style=\"font-weight: bold\">       Param # </span>┃\n",
       "┡━━━━━━━━━━━━━━━━━━━━━━━━━━━━━━━━━╇━━━━━━━━━━━━━━━━━━━━━━━━╇━━━━━━━━━━━━━━━┩\n",
       "│ embedding (<span style=\"color: #0087ff; text-decoration-color: #0087ff\">Embedding</span>)           │ (<span style=\"color: #00d7ff; text-decoration-color: #00d7ff\">None</span>, <span style=\"color: #00d7ff; text-decoration-color: #00d7ff\">None</span>, <span style=\"color: #00af00; text-decoration-color: #00af00\">16</span>)       │     <span style=\"color: #00af00; text-decoration-color: #00af00\">1,600,000</span> │\n",
       "├─────────────────────────────────┼────────────────────────┼───────────────┤\n",
       "│ dropout (<span style=\"color: #0087ff; text-decoration-color: #0087ff\">Dropout</span>)               │ (<span style=\"color: #00d7ff; text-decoration-color: #00d7ff\">None</span>, <span style=\"color: #00d7ff; text-decoration-color: #00d7ff\">None</span>, <span style=\"color: #00af00; text-decoration-color: #00af00\">16</span>)       │             <span style=\"color: #00af00; text-decoration-color: #00af00\">0</span> │\n",
       "├─────────────────────────────────┼────────────────────────┼───────────────┤\n",
       "│ global_average_pooling1d        │ (<span style=\"color: #00d7ff; text-decoration-color: #00d7ff\">None</span>, <span style=\"color: #00af00; text-decoration-color: #00af00\">16</span>)             │             <span style=\"color: #00af00; text-decoration-color: #00af00\">0</span> │\n",
       "│ (<span style=\"color: #0087ff; text-decoration-color: #0087ff\">GlobalAveragePooling1D</span>)        │                        │               │\n",
       "├─────────────────────────────────┼────────────────────────┼───────────────┤\n",
       "│ dropout_1 (<span style=\"color: #0087ff; text-decoration-color: #0087ff\">Dropout</span>)             │ (<span style=\"color: #00d7ff; text-decoration-color: #00d7ff\">None</span>, <span style=\"color: #00af00; text-decoration-color: #00af00\">16</span>)             │             <span style=\"color: #00af00; text-decoration-color: #00af00\">0</span> │\n",
       "├─────────────────────────────────┼────────────────────────┼───────────────┤\n",
       "│ dense (<span style=\"color: #0087ff; text-decoration-color: #0087ff\">Dense</span>)                   │ (<span style=\"color: #00d7ff; text-decoration-color: #00d7ff\">None</span>, <span style=\"color: #00af00; text-decoration-color: #00af00\">13</span>)             │           <span style=\"color: #00af00; text-decoration-color: #00af00\">221</span> │\n",
       "└─────────────────────────────────┴────────────────────────┴───────────────┘\n",
       "</pre>\n"
      ],
      "text/plain": [
       "┏━━━━━━━━━━━━━━━━━━━━━━━━━━━━━━━━━┳━━━━━━━━━━━━━━━━━━━━━━━━┳━━━━━━━━━━━━━━━┓\n",
       "┃\u001b[1m \u001b[0m\u001b[1mLayer (type)                   \u001b[0m\u001b[1m \u001b[0m┃\u001b[1m \u001b[0m\u001b[1mOutput Shape          \u001b[0m\u001b[1m \u001b[0m┃\u001b[1m \u001b[0m\u001b[1m      Param #\u001b[0m\u001b[1m \u001b[0m┃\n",
       "┡━━━━━━━━━━━━━━━━━━━━━━━━━━━━━━━━━╇━━━━━━━━━━━━━━━━━━━━━━━━╇━━━━━━━━━━━━━━━┩\n",
       "│ embedding (\u001b[38;5;33mEmbedding\u001b[0m)           │ (\u001b[38;5;45mNone\u001b[0m, \u001b[38;5;45mNone\u001b[0m, \u001b[38;5;34m16\u001b[0m)       │     \u001b[38;5;34m1,600,000\u001b[0m │\n",
       "├─────────────────────────────────┼────────────────────────┼───────────────┤\n",
       "│ dropout (\u001b[38;5;33mDropout\u001b[0m)               │ (\u001b[38;5;45mNone\u001b[0m, \u001b[38;5;45mNone\u001b[0m, \u001b[38;5;34m16\u001b[0m)       │             \u001b[38;5;34m0\u001b[0m │\n",
       "├─────────────────────────────────┼────────────────────────┼───────────────┤\n",
       "│ global_average_pooling1d        │ (\u001b[38;5;45mNone\u001b[0m, \u001b[38;5;34m16\u001b[0m)             │             \u001b[38;5;34m0\u001b[0m │\n",
       "│ (\u001b[38;5;33mGlobalAveragePooling1D\u001b[0m)        │                        │               │\n",
       "├─────────────────────────────────┼────────────────────────┼───────────────┤\n",
       "│ dropout_1 (\u001b[38;5;33mDropout\u001b[0m)             │ (\u001b[38;5;45mNone\u001b[0m, \u001b[38;5;34m16\u001b[0m)             │             \u001b[38;5;34m0\u001b[0m │\n",
       "├─────────────────────────────────┼────────────────────────┼───────────────┤\n",
       "│ dense (\u001b[38;5;33mDense\u001b[0m)                   │ (\u001b[38;5;45mNone\u001b[0m, \u001b[38;5;34m13\u001b[0m)             │           \u001b[38;5;34m221\u001b[0m │\n",
       "└─────────────────────────────────┴────────────────────────┴───────────────┘\n"
      ]
     },
     "metadata": {},
     "output_type": "display_data"
    },
    {
     "data": {
      "text/html": [
       "<pre style=\"white-space:pre;overflow-x:auto;line-height:normal;font-family:Menlo,'DejaVu Sans Mono',consolas,'Courier New',monospace\"><span style=\"font-weight: bold\"> Total params: </span><span style=\"color: #00af00; text-decoration-color: #00af00\">4,800,665</span> (18.31 MB)\n",
       "</pre>\n"
      ],
      "text/plain": [
       "\u001b[1m Total params: \u001b[0m\u001b[38;5;34m4,800,665\u001b[0m (18.31 MB)\n"
      ]
     },
     "metadata": {},
     "output_type": "display_data"
    },
    {
     "data": {
      "text/html": [
       "<pre style=\"white-space:pre;overflow-x:auto;line-height:normal;font-family:Menlo,'DejaVu Sans Mono',consolas,'Courier New',monospace\"><span style=\"font-weight: bold\"> Trainable params: </span><span style=\"color: #00af00; text-decoration-color: #00af00\">1,600,221</span> (6.10 MB)\n",
       "</pre>\n"
      ],
      "text/plain": [
       "\u001b[1m Trainable params: \u001b[0m\u001b[38;5;34m1,600,221\u001b[0m (6.10 MB)\n"
      ]
     },
     "metadata": {},
     "output_type": "display_data"
    },
    {
     "data": {
      "text/html": [
       "<pre style=\"white-space:pre;overflow-x:auto;line-height:normal;font-family:Menlo,'DejaVu Sans Mono',consolas,'Courier New',monospace\"><span style=\"font-weight: bold\"> Non-trainable params: </span><span style=\"color: #00af00; text-decoration-color: #00af00\">0</span> (0.00 B)\n",
       "</pre>\n"
      ],
      "text/plain": [
       "\u001b[1m Non-trainable params: \u001b[0m\u001b[38;5;34m0\u001b[0m (0.00 B)\n"
      ]
     },
     "metadata": {},
     "output_type": "display_data"
    },
    {
     "data": {
      "text/html": [
       "<pre style=\"white-space:pre;overflow-x:auto;line-height:normal;font-family:Menlo,'DejaVu Sans Mono',consolas,'Courier New',monospace\"><span style=\"font-weight: bold\"> Optimizer params: </span><span style=\"color: #00af00; text-decoration-color: #00af00\">3,200,444</span> (12.21 MB)\n",
       "</pre>\n"
      ],
      "text/plain": [
       "\u001b[1m Optimizer params: \u001b[0m\u001b[38;5;34m3,200,444\u001b[0m (12.21 MB)\n"
      ]
     },
     "metadata": {},
     "output_type": "display_data"
    }
   ],
   "source": [
    "# reload model snippet\n",
    "new_model = tf.keras.models.load_model('out/parlamentary_actions_cat.keras')\n",
    "\n",
    "# Show the model architecture\n",
    "new_model.summary()"
   ]
  }
 ],
 "metadata": {
  "kernelspec": {
   "display_name": "3.12.5",
   "language": "python",
   "name": "python3"
  },
  "language_info": {
   "codemirror_mode": {
    "name": "ipython",
    "version": 3
   },
   "file_extension": ".py",
   "mimetype": "text/x-python",
   "name": "python",
   "nbconvert_exporter": "python",
   "pygments_lexer": "ipython3",
   "version": "3.12.5"
  }
 },
 "nbformat": 4,
 "nbformat_minor": 2
}
